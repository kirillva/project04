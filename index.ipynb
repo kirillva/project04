{
 "cells": [
  {
   "cell_type": "markdown",
   "id": "7fe37bdb",
   "metadata": {},
   "source": [
    "<img src=\"http://s3.amazonaws.com/pix.iemoji.com/images/emoji/apple/ios-12/256/waving-hand.png\" align=left width=44, heigth=44>\n",
    "<div class=\"alert alert-info\">\n",
    "<b> Комментарий ревьюера</b>\n",
    "\n",
    "\n",
    "Привет, Кирилл! Давай знакомиться! Меня зовут Дмитрий Махортов, и я буду проверять твой проект. \n",
    "\n",
    "Моя основная цель — не указать на совершенные тобою ошибки, а поделиться своим опытом и помочь тебе погрузиться в увлекательный мир работы с данными и вырасти в крепкого профи. Это отдаленная цель. А ближайшая - сделать твою работу еще лучше )).\n",
    "   \n",
    "    \n",
    "Все ключевые этапы в работе выполнены, и я вижу что с проектом ты справшяешься. Есть моменты, которые нужно доработать, но я уверен, у тебя все получится.\n",
    "        \n",
    "Расскажу как обычно проходит проверка:    \n",
    "Бывают моменты, которые требуют пристального внимания. Комментарии по ним выделены <span style='background-color:#F7B3A4'> красным цветом </span> и обозначены значком 🛑. После их доработки проект будет принят.  🙂\n",
    " \n",
    "<span style='background-color:#B7EBA7'> Зеленым цветом </span> и значком ✅ отмечены удачные и элегантные решения, на которые можно опираться в будущих проектах. Или советы «со звездочкой», которые помогут тебе в будущем.\n",
    "\n",
    "<span style='background-color:#F9EDA6'>Жёлтым цветом </span> и значком ⚠️ выделено то, что в следующий раз можно сделать по-другому. Ты можешь учесть эти комментарии при выполнении будущих заданий или доработать проект сейчас (однако это не обязательно).\n",
    "\n",
    "Давай работать над проектом в диалоге: **если ты что-то меняешь в проекте по моим рекомендациям — пиши об этом**. Выбери для своих комментариев какой-то заметный цвет, так мне будет легче отследить изменения. Пожалуйста, **не перемещай, не изменяй и не удаляй мои комментарии**. Всё это поможет выполнить повторную проверку твоего проекта оперативнее. \n",
    "</div>"
   ]
  },
  {
   "cell_type": "markdown",
   "id": "71b74f40",
   "metadata": {},
   "source": [
    "<div class=\"alert\" style=\"background-color:#ead7f7;color:#8737bf\">\n",
    "    <font size=\"3\"><b>образец комментария студента</b></font>\n",
    "   \n",
    "Можешь использовать этот комментарий. Просто удали этот текст и вместо него напиши свой 🙂\n",
    "\n",
    "</div>"
   ]
  },
  {
   "cell_type": "markdown",
   "id": "1ff1020a",
   "metadata": {
    "cellId": "pbwq209p45adtxfy5ofecd",
    "deletable": false,
    "editable": false,
    "execution_id": "7cb94123-6481-41de-973a-91abe63db303",
    "id": "1ff1020a",
    "tags": [
     "5643b276-1159-4b34-85a5-eeadeed9ff48"
    ]
   },
   "source": [
    "# Прекод\n",
    "\n",
    "# Сборный проект-4\n",
    "\n",
    "Вам поручено разработать демонстрационную версию поиска изображений по запросу.\n",
    "\n",
    "Для демонстрационной версии нужно обучить модель, которая получит векторное представление изображения, векторное представление текста, а на выходе выдаст число от 0 до 1 — покажет, насколько текст и картинка подходят друг другу.\n",
    "\n",
    "### Описание данных\n",
    "\n",
    "Данные находятся [здесь](https://code.s3.yandex.net/datasets/dsplus_integrated_project_4.zip).\n",
    "\n",
    "В файле `train_dataset.csv` собрана информация, необходимая для обучения: имя файла изображения, идентификатор описания и текст описания. Для одной картинки может быть доступно до 5 описаний. Идентификатор описания имеет формат `<имя файла изображения>#<порядковый номер описания>`.\n",
    "\n",
    "В папке `train_images` содержатся изображения для тренировки модели.\n",
    "\n",
    "В файле `CrowdAnnotations.tsv` — данные по соответствию изображения и описания, полученные с помощью краудсорсинга. Номера колонок и соответствующий тип данных:\n",
    "\n",
    "1. Имя файла изображения.\n",
    "2. Идентификатор описания.\n",
    "3. Доля людей, подтвердивших, что описание соответствует изображению.\n",
    "4. Количество человек, подтвердивших, что описание соответствует изображению.\n",
    "5. Количество человек, подтвердивших, что описание не соответствует изображению.\n",
    "\n",
    "В файле `ExpertAnnotations.tsv` содержатся данные по соответствию изображения и описания, полученные в результате опроса экспертов. Номера колонок и соответствующий тип данных:\n",
    "\n",
    "1. Имя файла изображения.\n",
    "2. Идентификатор описания.\n",
    "\n",
    "3, 4, 5 — оценки трёх экспертов.\n",
    "\n",
    "Эксперты ставят оценки по шкале от 1 до 4, где 1 — изображение и запрос совершенно не соответствуют друг другу, 2 — запрос содержит элементы описания изображения, но в целом запрос тексту не соответствует, 3 — запрос и текст соответствуют с точностью до некоторых деталей, 4 — запрос и текст соответствуют полностью.\n",
    "\n",
    "В файле `test_queries.csv` находится информация, необходимая для тестирования: идентификатор запроса, текст запроса и релевантное изображение. Для одной картинки может быть доступно до 5 описаний. Идентификатор описания имеет формат `<имя файла изображения>#<порядковый номер описания>`.\n",
    "\n",
    "В папке `test_images` содержатся изображения для тестирования модели."
   ]
  },
  {
   "cell_type": "markdown",
   "id": "99489b26",
   "metadata": {
    "cellId": "n6vkjcacwu39w29bfocxt",
    "execution_id": "1b731a18-3394-4b62-b3f7-018692c2d6de",
    "id": "99489b26"
   },
   "source": [
    "## 1. Исследовательский анализ данных\n",
    "\n",
    "Наш датасет содержит экспертные и краудсорсинговые оценки соответствия текста и изображения.\n",
    "\n",
    "В файле с экспертными мнениями для каждой пары изображение-текст имеются оценки от трёх специалистов. Для решения задачи вы должны эти оценки агрегировать — превратить в одну. Существует несколько способов агрегации оценок, самый простой — голосование большинства: за какую оценку проголосовала большая часть экспертов (в нашем случае 2 или 3), та оценка и ставится как итоговая. Поскольку число экспертов меньше числа классов, может случиться, что каждый эксперт поставит разные оценки, например: 1, 4, 2. В таком случае данную пару изображение-текст можно исключить из датасета.\n",
    "\n",
    "Вы можете воспользоваться другим методом агрегации оценок или придумать свой.\n",
    "\n",
    "В файле с краудсорсинговыми оценками информация расположена в таком порядке:\n",
    "\n",
    "1. Доля исполнителей, подтвердивших, что текст **соответствует** картинке.\n",
    "2. Количество исполнителей, подтвердивших, что текст **соответствует** картинке.\n",
    "3. Количество исполнителей, подтвердивших, что текст **не соответствует** картинке.\n",
    "\n",
    "После анализа экспертных и краудсорсинговых оценок выберите либо одну из них, либо объедините их в одну по какому-то критерию: например, оценка эксперта принимается с коэффициентом 0.6, а крауда — с коэффициентом 0.4.\n",
    "\n",
    "Ваша модель должна возвращать на выходе вероятность соответствия изображения тексту, поэтому целевая переменная должна иметь значения от 0 до 1.\n"
   ]
  },
  {
   "cell_type": "code",
   "execution_count": 166,
   "id": "193ba15d",
   "metadata": {
    "id": "193ba15d",
    "outputId": "dbff3b85-1315-431f-e082-c9d88f91b2cf"
   },
   "outputs": [],
   "source": [
    "# !pip install tqdm pandarallel transformers wordcloud ipywidgets Pillow"
   ]
  },
  {
   "cell_type": "code",
   "execution_count": 167,
   "id": "ad6a09ea",
   "metadata": {
    "id": "ad6a09ea",
    "outputId": "6354912a-157a-4a72-9009-1cd49dda7600"
   },
   "outputs": [],
   "source": [
    "# !pip install torch torchvision torchaudio --index-url https://download.pytorch.org/whl/cu117"
   ]
  },
  {
   "cell_type": "markdown",
   "id": "2372fccb",
   "metadata": {
    "id": "34b2b15b"
   },
   "source": [
    "<img src=\"https://upload.wikimedia.org/wikipedia/commons/b/ba/Warning_sign_4.0.png\" align=left width=44, heigth=33>\n",
    "<div class=\"alert alert-warning\">\n",
    "У меня создалось ощущение, что ты устанавливаешь очень много лишних библиотек. Попробую пояснить свою идею.\n",
    "    \n",
    "Я вижу что ты работаешь в локальном окружении, а значит установка одной библиотеки делается один раз (ты это сделал в ноутбуке, но можно и через итерфейс анаконды или командную строку (терминал).\n",
    "    \n",
    "А для сред, где этот ноутбук может загружаться многие из ипользованных тобой библиотек уже установлены. В лиюбом случае ты же не устанавливаешь абсолютно все. Например для запуска твоего кода в колабе мне потербовалось только \n",
    "    \n",
    "    \n",
    "    transformers wordcloud pandarallel\n",
    "    \n",
    "Но если установка библиотеки нужна, то можно добавить флаг -q и соединить все установки в одну строку. Будет гораздо аккуратноее.\n",
    "    \n",
    "    !pip install -q  transformers wordcloud pandarallel\n",
    "    \n",
    "    \n",
    "А еще советую провести ревизию, все ли библиотеки тебе нужны. Вижу \"исключающие\" друг друга устновки и импорты, скорее всего ты просто не сделал \"генеральную уборку\" после экспериментов.    \n",
    "</div>"
   ]
  },
  {
   "cell_type": "code",
   "execution_count": 387,
   "id": "79250670",
   "metadata": {
    "cellId": "exl6m83oldxqlu1vq1s6",
    "id": "79250670",
    "outputId": "b671949f-11a7-450f-df90-2a84d52e3db5",
    "scrolled": true
   },
   "outputs": [
    {
     "name": "stdout",
     "output_type": "stream",
     "text": [
      "INFO: Pandarallel will run on 6 workers.\n",
      "INFO: Pandarallel will use Memory file system to transfer data between the main process and workers.\n"
     ]
    }
   ],
   "source": [
    "import pandas as pd\n",
    "import numpy as np\n",
    "import torch\n",
    "import torch.nn as nn\n",
    "from PIL import Image\n",
    "from os import listdir\n",
    "\n",
    "import matplotlib.pyplot as plt\n",
    "from wordcloud import WordCloud\n",
    "\n",
    "import transformers\n",
    "from transformers import AutoFeatureExtractor, ResNetModel\n",
    "from sklearn.metrics import mean_absolute_error\n",
    "from sklearn.model_selection import GroupShuffleSplit\n",
    "\n",
    "from tqdm import tqdm\n",
    "\n",
    "from pandarallel import pandarallel\n",
    "pandarallel.initialize(progress_bar=True)\n",
    "\n",
    "tqdm.pandas()\n",
    "\n",
    "from torch.utils.data import DataLoader, Dataset, TensorDataset\n",
    "\n",
    "from sklearn.metrics import mean_squared_error"
   ]
  },
  {
   "cell_type": "code",
   "execution_count": 169,
   "id": "4be609b3",
   "metadata": {
    "id": "4be609b3"
   },
   "outputs": [],
   "source": [
    "ORIGINAL_DIR = './to_upload'"
   ]
  },
  {
   "cell_type": "markdown",
   "id": "7862017d",
   "metadata": {},
   "source": [
    "<img src=\"https://emojigraph.org/media/apple/check-mark-button_2705.png\" align=left width=33, heigth=33>\n",
    "<div class=\"alert alert-success\">\n",
    "Большое тебе человеческое спасибо за вынос пути к данным в отдельную константу. Это сэкономило мне немало времени при проверке.</div>"
   ]
  },
  {
   "cell_type": "markdown",
   "id": "41aaa058",
   "metadata": {},
   "source": [
    "<img src=\"https://upload.wikimedia.org/wikipedia/commons/thumb/8/81/Stop_sign.png/240px-Stop_sign.png\" align=left width=35, heigth=35>\n",
    "<div class=\"alert alert-danger\">\n",
    "Но при перезапуске проекта у меня возникли большие сложности связанные с тем, что ты руками поменял данные, в частности у тебя появилась директория images, но в данных, которые я могу скачать с сервера Практикума есть папки с обучающими и тестовыми изображениями. Прошу тебя внести изменения в проект чтобы он запускался на корректном датасете.</div>"
   ]
  },
  {
   "cell_type": "markdown",
   "id": "3fa5596b",
   "metadata": {
    "id": "3fa5596b"
   },
   "source": [
    "## Подготовка данных разметки"
   ]
  },
  {
   "cell_type": "code",
   "execution_count": 170,
   "id": "75173c18",
   "metadata": {
    "id": "75173c18"
   },
   "outputs": [],
   "source": [
    "crowd_annotations = pd.read_csv(f'{ORIGINAL_DIR}/CrowdAnnotations.tsv', delimiter='\\t', header=None)\n",
    "crowd_annotations.columns = ['image', 'query_id', 'percent', 'positive', 'negative']"
   ]
  },
  {
   "cell_type": "code",
   "execution_count": 171,
   "id": "8bf5d2b8",
   "metadata": {},
   "outputs": [
    {
     "name": "stdout",
     "output_type": "stream",
     "text": [
      "<class 'pandas.core.frame.DataFrame'>\n",
      "RangeIndex: 47830 entries, 0 to 47829\n",
      "Data columns (total 5 columns):\n",
      " #   Column    Non-Null Count  Dtype  \n",
      "---  ------    --------------  -----  \n",
      " 0   image     47830 non-null  object \n",
      " 1   query_id  47830 non-null  object \n",
      " 2   percent   47830 non-null  float64\n",
      " 3   positive  47830 non-null  int64  \n",
      " 4   negative  47830 non-null  int64  \n",
      "dtypes: float64(1), int64(2), object(2)\n",
      "memory usage: 1.8+ MB\n"
     ]
    }
   ],
   "source": [
    "crowd_annotations.head()\n",
    "crowd_annotations.info()"
   ]
  },
  {
   "cell_type": "code",
   "execution_count": 172,
   "id": "41636fa2",
   "metadata": {
    "id": "41636fa2"
   },
   "outputs": [],
   "source": [
    "expert_annotations = pd.read_csv(f'{ORIGINAL_DIR}/ExpertAnnotations.tsv', delimiter='\\t', header=None)\n",
    "expert_annotations.columns = ['image', 'query_id', 'expert_0', 'expert_1', 'expert_2']"
   ]
  },
  {
   "cell_type": "code",
   "execution_count": 173,
   "id": "c14736fc",
   "metadata": {},
   "outputs": [
    {
     "name": "stdout",
     "output_type": "stream",
     "text": [
      "<class 'pandas.core.frame.DataFrame'>\n",
      "RangeIndex: 5822 entries, 0 to 5821\n",
      "Data columns (total 5 columns):\n",
      " #   Column    Non-Null Count  Dtype \n",
      "---  ------    --------------  ----- \n",
      " 0   image     5822 non-null   object\n",
      " 1   query_id  5822 non-null   object\n",
      " 2   expert_0  5822 non-null   int64 \n",
      " 3   expert_1  5822 non-null   int64 \n",
      " 4   expert_2  5822 non-null   int64 \n",
      "dtypes: int64(3), object(2)\n",
      "memory usage: 227.5+ KB\n"
     ]
    }
   ],
   "source": [
    "expert_annotations.head()\n",
    "expert_annotations.info()"
   ]
  },
  {
   "cell_type": "code",
   "execution_count": 174,
   "id": "569a89f8",
   "metadata": {
    "id": "569a89f8"
   },
   "outputs": [],
   "source": [
    "def get_expert(record):\n",
    "    marks = [0, 0, 0, 0]\n",
    "\n",
    "    marks[record['expert_0'] - 1] += 1\n",
    "    marks[record['expert_1'] - 1] += 1\n",
    "    marks[record['expert_2'] - 1] += 1\n",
    "\n",
    "    for i in range(len(marks)):\n",
    "        if (marks[i] == 2) | (marks[i] == 3):\n",
    "            return i + 1\n",
    "\n",
    "    return 0\n",
    "\n",
    "expert_annotations['mark'] = expert_annotations.apply(get_expert, axis=1)"
   ]
  },
  {
   "cell_type": "markdown",
   "id": "02aff851",
   "metadata": {},
   "source": [
    "<img src=\"https://upload.wikimedia.org/wikipedia/commons/b/ba/Warning_sign_4.0.png\" align=left width=44, heigth=33>\n",
    "<div class=\"alert alert-warning\">\n",
    "    \n",
    "Отсутствует этап знакомства с данными и хотя-бы очень беглый EDA. Ты сразу пошел \"в бой\" им начал преобразовывать датафреймы.\n",
    "    \n",
    "Но в любом проекте нужно вначале осмыслено и системно познакомиться с даннными, и только потом начинать их вдумчиво преобразовывать, готовить признаки для машинного  обучения.\n",
    "    \n",
    "    \n",
    "Что бы я сделал (программа минимум): посмотрел на все доступные таблицы через head/info/describe,  + посмотрел на изображения. Попробую сформулировать вопросы, ответить на которые будет интересно:\n",
    "  - Количество уникальных изображений в обучающем и тестовом наборах\n",
    "  - Количество уникальных запросов  \n",
    "  - Количество оценок в экспертном и краудсорсинговом наборах.\n",
    "  - Как мы планируем обрабатывать данные (какие оценки как использовать для формирования итогового датафрейма с оценками)   \n",
    "    \n",
    "    \n",
    "</div>"
   ]
  },
  {
   "cell_type": "code",
   "execution_count": 175,
   "id": "b67f683f",
   "metadata": {
    "id": "b67f683f",
    "outputId": "a7854b3a-e15f-4914-8b89-614553c7d6e5"
   },
   "outputs": [],
   "source": [
    "expert_annotations = expert_annotations[expert_annotations['mark'] > 0]\n",
    "expert_annotations['percent_expert'] = expert_annotations['mark'] / 4"
   ]
  },
  {
   "cell_type": "markdown",
   "id": "1b6687ec",
   "metadata": {},
   "source": [
    "<img src=\"https://upload.wikimedia.org/wikipedia/commons/b/ba/Warning_sign_4.0.png\" align=left width=44, heigth=33>\n",
    "<div class=\"alert alert-warning\">\n",
    "Не стоит выводить весь датафрейм. Да, внешне ты видишь первые и последние пять строк. Но под капотом интерпретатор python работает со всем датафреймом, занимается оперативная память, пишутся служебные файлы... По итогу это может привести к замедлению работы и проблемам с работоспособностью тетрадки.\n",
    "    \n",
    "Лучше всегда явно ограничивать количество обрабатываемых значений.\n",
    "    \n",
    "Советую использовать пару head + info()    \n",
    "</div>"
   ]
  },
  {
   "cell_type": "code",
   "execution_count": 176,
   "id": "f8f5bd43",
   "metadata": {
    "id": "f8f5bd43",
    "outputId": "b708fe74-8dd6-4d75-e54b-a3814d626c31"
   },
   "outputs": [],
   "source": [
    "crowd_annotations['sum'] = crowd_annotations['positive'] + crowd_annotations['negative']\n",
    "crowd_annotations['percent_crowd'] = crowd_annotations['positive'] / crowd_annotations['sum']"
   ]
  },
  {
   "cell_type": "markdown",
   "id": "d5af09da",
   "metadata": {},
   "source": [
    "<img src=\"https://upload.wikimedia.org/wikipedia/commons/b/ba/Warning_sign_4.0.png\" align=left width=44, heigth=33>\n",
    "<div class=\"alert alert-warning\">\n",
    "То, что ты высчитываешь как percent_crowd уже есть в percent\n",
    "    \n",
    "</div>"
   ]
  },
  {
   "cell_type": "code",
   "execution_count": 177,
   "id": "6634702d",
   "metadata": {
    "id": "6634702d",
    "outputId": "8f79505f-1047-46dc-c410-0b90ee719593"
   },
   "outputs": [],
   "source": [
    "marks = crowd_annotations.merge(expert_annotations, how='outer', on=['query_id', 'image'])[['image', 'query_id', 'percent_crowd', 'percent_expert']]"
   ]
  },
  {
   "cell_type": "code",
   "execution_count": 178,
   "id": "32b27959",
   "metadata": {
    "id": "32b27959",
    "outputId": "fd535902-29ed-47e2-9196-96dcb311f97e"
   },
   "outputs": [
    {
     "data": {
      "image/png": "[encoded data removed]",
      "text/plain": [
       "<Figure size 640x480 with 1 Axes>"
      ]
     },
     "metadata": {},
     "output_type": "display_data"
    }
   ],
   "source": [
    "def get_mark(record):\n",
    "    if np.isnan(record['percent_crowd']):\n",
    "        return record['percent_expert']\n",
    "    \n",
    "    if np.isnan(record['percent_expert']):\n",
    "        return record['percent_crowd']\n",
    "    \n",
    "    return record['percent_crowd'] * 0.4 + record['percent_expert'] * 0.6\n",
    "\n",
    "marks['target'] = marks.apply(get_mark, axis=1)\n",
    "marks['target'].hist(bins=50)\n",
    "None"
   ]
  },
  {
   "cell_type": "code",
   "execution_count": 179,
   "id": "a8ab8fc2",
   "metadata": {},
   "outputs": [
    {
     "name": "stdout",
     "output_type": "stream",
     "text": [
      "<class 'pandas.core.frame.DataFrame'>\n",
      "RangeIndex: 51268 entries, 0 to 51267\n",
      "Data columns (total 5 columns):\n",
      " #   Column          Non-Null Count  Dtype  \n",
      "---  ------          --------------  -----  \n",
      " 0   image           51268 non-null  object \n",
      " 1   query_id        51268 non-null  object \n",
      " 2   percent_crowd   47830 non-null  float64\n",
      " 3   percent_expert  5696 non-null   float64\n",
      " 4   target          51268 non-null  float64\n",
      "dtypes: float64(3), object(2)\n",
      "memory usage: 2.0+ MB\n"
     ]
    }
   ],
   "source": [
    "marks.info()"
   ]
  },
  {
   "cell_type": "markdown",
   "id": "33fea03e",
   "metadata": {},
   "source": [
    "</div><img src=\"https://upload.wikimedia.org/wikipedia/commons/b/ba/Warning_sign_4.0.png\" align=left width=44, heigth=33>\n",
    "<div class=\"alert alert-warning\">\n",
    "    \n",
    "Давай еще раз проанализиуем что ты сделал.  У тебя был датасет с экспертными оценками (почти 6000 оценок). Ты объединил их с краудсорс-оценками (кстати, их было 48000), но т.к. ты использовл inner_join, то у тебя осталось всего 2258 оценки...\n",
    "    \n",
    "Ради сомнительного улучшения качества потерять половину доступных оценок - это крайне расточительно.   \n",
    "    \n",
    "Кстати, в этой задаче можно попробовать использовать все оценки (и тогда датасет будет не 2258, а больше 50000 пар текст-изображение).  Нужно просто сделать outrer join и аккуратно обработать оценки:\n",
    "    \n",
    "   - Привести экспертные оценки и краудсорс оценки к масштабу 0-1\n",
    "   - Если есть оба типа оценок, то использовать взвешенную сумму\n",
    "   - Если есть только одна оценка, то использовать её.\n",
    " \n",
    "    \n",
    "Помни, что сбор данных это достаточно дорогой и трудоемкий процесс.  И разбрасываться ими это моветон.    \n",
    "</div>"
   ]
  },
  {
   "cell_type": "markdown",
   "id": "58a59737",
   "metadata": {
    "id": "58a59737"
   },
   "source": [
    "## Данные о фотографиях."
   ]
  },
  {
   "cell_type": "code",
   "execution_count": 180,
   "id": "0693201c",
   "metadata": {
    "id": "0693201c"
   },
   "outputs": [],
   "source": [
    "test_images = pd.read_csv(f'{ORIGINAL_DIR}/test_images.csv')\n",
    "test_queries = pd.read_csv(f'{ORIGINAL_DIR}/test_queries.csv', delimiter='|', index_col=[0])\n",
    "train_dataset = pd.read_csv(f'{ORIGINAL_DIR}/train_dataset.csv')"
   ]
  },
  {
   "cell_type": "code",
   "execution_count": 181,
   "id": "9cadbf91",
   "metadata": {
    "id": "9cadbf91",
    "outputId": "a25fe42b-be9b-40a6-cd9c-fc0ffda59c58"
   },
   "outputs": [
    {
     "data": {
      "text/html": [
       "<div>\n",
       "<style scoped>\n",
       "    .dataframe tbody tr th:only-of-type {\n",
       "        vertical-align: middle;\n",
       "    }\n",
       "\n",
       "    .dataframe tbody tr th {\n",
       "        vertical-align: top;\n",
       "    }\n",
       "\n",
       "    .dataframe thead th {\n",
       "        text-align: right;\n",
       "    }\n",
       "</style>\n",
       "<table border=\"1\" class=\"dataframe\">\n",
       "  <thead>\n",
       "    <tr style=\"text-align: right;\">\n",
       "      <th></th>\n",
       "      <th>image</th>\n",
       "    </tr>\n",
       "  </thead>\n",
       "  <tbody>\n",
       "    <tr>\n",
       "      <th>40</th>\n",
       "      <td>3466891862_9afde75568.jpg</td>\n",
       "    </tr>\n",
       "    <tr>\n",
       "      <th>35</th>\n",
       "      <td>3033612929_764d977bd5.jpg</td>\n",
       "    </tr>\n",
       "    <tr>\n",
       "      <th>81</th>\n",
       "      <td>3514297698_0512623955.jpg</td>\n",
       "    </tr>\n",
       "    <tr>\n",
       "      <th>61</th>\n",
       "      <td>3690425778_3b390b3ea5.jpg</td>\n",
       "    </tr>\n",
       "    <tr>\n",
       "      <th>98</th>\n",
       "      <td>2670637584_d96efb8afa.jpg</td>\n",
       "    </tr>\n",
       "    <tr>\n",
       "      <th>68</th>\n",
       "      <td>957682378_46c3b07bcd.jpg</td>\n",
       "    </tr>\n",
       "    <tr>\n",
       "      <th>85</th>\n",
       "      <td>3398788809_25c71ba018.jpg</td>\n",
       "    </tr>\n",
       "    <tr>\n",
       "      <th>27</th>\n",
       "      <td>3287969199_08e775d896.jpg</td>\n",
       "    </tr>\n",
       "    <tr>\n",
       "      <th>39</th>\n",
       "      <td>381514859_b40418d9c3.jpg</td>\n",
       "    </tr>\n",
       "    <tr>\n",
       "      <th>42</th>\n",
       "      <td>3520936130_9e90872560.jpg</td>\n",
       "    </tr>\n",
       "  </tbody>\n",
       "</table>\n",
       "</div>"
      ],
      "text/plain": [
       "                        image\n",
       "40  3466891862_9afde75568.jpg\n",
       "35  3033612929_764d977bd5.jpg\n",
       "81  3514297698_0512623955.jpg\n",
       "61  3690425778_3b390b3ea5.jpg\n",
       "98  2670637584_d96efb8afa.jpg\n",
       "68   957682378_46c3b07bcd.jpg\n",
       "85  3398788809_25c71ba018.jpg\n",
       "27  3287969199_08e775d896.jpg\n",
       "39   381514859_b40418d9c3.jpg\n",
       "42  3520936130_9e90872560.jpg"
      ]
     },
     "metadata": {},
     "output_type": "display_data"
    },
    {
     "name": "stdout",
     "output_type": "stream",
     "text": [
      "<class 'pandas.core.frame.DataFrame'>\n",
      "RangeIndex: 100 entries, 0 to 99\n",
      "Data columns (total 1 columns):\n",
      " #   Column  Non-Null Count  Dtype \n",
      "---  ------  --------------  ----- \n",
      " 0   image   100 non-null    object\n",
      "dtypes: object(1)\n",
      "memory usage: 928.0+ bytes\n"
     ]
    }
   ],
   "source": [
    "display(test_images.sample(10, random_state=1234))\n",
    "test_images.info()"
   ]
  },
  {
   "cell_type": "markdown",
   "id": "95c06e91",
   "metadata": {},
   "source": [
    "<img src=\"https://upload.wikimedia.org/wikipedia/commons/b/ba/Warning_sign_4.0.png\" align=left width=44, heigth=33>\n",
    "<div class=\"alert alert-warning\">\n",
    "Для всех загруженных таблиц не забывай смотреть размер через shape или info, эта информация не менее ценна, чем просто посмотреть несколько строк.\n",
    "    \n",
    "    \n",
    "P.S. увидел, что ты смотришь info() несколкими ячейками ниже. Но это жутко неудобно, одновременно знакомиться с несколькими таблицами. Лучше изучать их по одной. Иначе получается что чисто формально ты вывел нужную информацию, но читатель пока изучит все sample уже забудет что было в первом. И придется листать проект туда-сюда, постоянно путаясь."
   ]
  },
  {
   "cell_type": "code",
   "execution_count": 182,
   "id": "ba4eda58",
   "metadata": {
    "id": "ba4eda58",
    "outputId": "dbc09823-7db5-4476-f5ea-0e2797731795"
   },
   "outputs": [
    {
     "data": {
      "text/html": [
       "<div>\n",
       "<style scoped>\n",
       "    .dataframe tbody tr th:only-of-type {\n",
       "        vertical-align: middle;\n",
       "    }\n",
       "\n",
       "    .dataframe tbody tr th {\n",
       "        vertical-align: top;\n",
       "    }\n",
       "\n",
       "    .dataframe thead th {\n",
       "        text-align: right;\n",
       "    }\n",
       "</style>\n",
       "<table border=\"1\" class=\"dataframe\">\n",
       "  <thead>\n",
       "    <tr style=\"text-align: right;\">\n",
       "      <th></th>\n",
       "      <th>query_id</th>\n",
       "      <th>query_text</th>\n",
       "      <th>image</th>\n",
       "    </tr>\n",
       "  </thead>\n",
       "  <tbody>\n",
       "    <tr>\n",
       "      <th>67</th>\n",
       "      <td>2121140070_a09644550b.jpg#2</td>\n",
       "      <td>A group of people in a large yard toss a disc .</td>\n",
       "      <td>2121140070_a09644550b.jpg</td>\n",
       "    </tr>\n",
       "    <tr>\n",
       "      <th>416</th>\n",
       "      <td>3722572342_6904d11d52.jpg#1</td>\n",
       "      <td>A red high speed racing boat skips across the ...</td>\n",
       "      <td>3722572342_6904d11d52.jpg</td>\n",
       "    </tr>\n",
       "    <tr>\n",
       "      <th>350</th>\n",
       "      <td>3459871361_92d1ecda36.jpg#0</td>\n",
       "      <td>A bicyclist is jumping on ramp covered with gr...</td>\n",
       "      <td>3459871361_92d1ecda36.jpg</td>\n",
       "    </tr>\n",
       "    <tr>\n",
       "      <th>358</th>\n",
       "      <td>3466891862_9afde75568.jpg#3</td>\n",
       "      <td>The small dog returns with his stick proudly .</td>\n",
       "      <td>3466891862_9afde75568.jpg</td>\n",
       "    </tr>\n",
       "    <tr>\n",
       "      <th>112</th>\n",
       "      <td>2448210587_9fe7ea5f42.jpg#2</td>\n",
       "      <td>A white bulldog sitting on a tree stump gives ...</td>\n",
       "      <td>2448210587_9fe7ea5f42.jpg</td>\n",
       "    </tr>\n",
       "    <tr>\n",
       "      <th>329</th>\n",
       "      <td>3421547427_53411b6278.jpg#4</td>\n",
       "      <td>The tennis player in the blue shirt is holding...</td>\n",
       "      <td>3421547427_53411b6278.jpg</td>\n",
       "    </tr>\n",
       "    <tr>\n",
       "      <th>299</th>\n",
       "      <td>3351418768_596ef7fd6f.jpg#4</td>\n",
       "      <td>A woman in purple with two children in the mou...</td>\n",
       "      <td>3351418768_596ef7fd6f.jpg</td>\n",
       "    </tr>\n",
       "    <tr>\n",
       "      <th>64</th>\n",
       "      <td>2107838729_a527e434bd.jpg#4</td>\n",
       "      <td>Little boy standing on the bank of a river .</td>\n",
       "      <td>2107838729_a527e434bd.jpg</td>\n",
       "    </tr>\n",
       "    <tr>\n",
       "      <th>27</th>\n",
       "      <td>1468389504_c724bdcad0.jpg#2</td>\n",
       "      <td>Two little girls in pink outfits play on a yel...</td>\n",
       "      <td>1468389504_c724bdcad0.jpg</td>\n",
       "    </tr>\n",
       "    <tr>\n",
       "      <th>373</th>\n",
       "      <td>3488087117_2719647989.jpg#3</td>\n",
       "      <td>Little brown and white dog running on the side...</td>\n",
       "      <td>3488087117_2719647989.jpg</td>\n",
       "    </tr>\n",
       "  </tbody>\n",
       "</table>\n",
       "</div>"
      ],
      "text/plain": [
       "                        query_id  \\\n",
       "67   2121140070_a09644550b.jpg#2   \n",
       "416  3722572342_6904d11d52.jpg#1   \n",
       "350  3459871361_92d1ecda36.jpg#0   \n",
       "358  3466891862_9afde75568.jpg#3   \n",
       "112  2448210587_9fe7ea5f42.jpg#2   \n",
       "329  3421547427_53411b6278.jpg#4   \n",
       "299  3351418768_596ef7fd6f.jpg#4   \n",
       "64   2107838729_a527e434bd.jpg#4   \n",
       "27   1468389504_c724bdcad0.jpg#2   \n",
       "373  3488087117_2719647989.jpg#3   \n",
       "\n",
       "                                            query_text  \\\n",
       "67     A group of people in a large yard toss a disc .   \n",
       "416  A red high speed racing boat skips across the ...   \n",
       "350  A bicyclist is jumping on ramp covered with gr...   \n",
       "358     The small dog returns with his stick proudly .   \n",
       "112  A white bulldog sitting on a tree stump gives ...   \n",
       "329  The tennis player in the blue shirt is holding...   \n",
       "299  A woman in purple with two children in the mou...   \n",
       "64        Little boy standing on the bank of a river .   \n",
       "27   Two little girls in pink outfits play on a yel...   \n",
       "373  Little brown and white dog running on the side...   \n",
       "\n",
       "                         image  \n",
       "67   2121140070_a09644550b.jpg  \n",
       "416  3722572342_6904d11d52.jpg  \n",
       "350  3459871361_92d1ecda36.jpg  \n",
       "358  3466891862_9afde75568.jpg  \n",
       "112  2448210587_9fe7ea5f42.jpg  \n",
       "329  3421547427_53411b6278.jpg  \n",
       "299  3351418768_596ef7fd6f.jpg  \n",
       "64   2107838729_a527e434bd.jpg  \n",
       "27   1468389504_c724bdcad0.jpg  \n",
       "373  3488087117_2719647989.jpg  "
      ]
     },
     "metadata": {},
     "output_type": "display_data"
    },
    {
     "name": "stdout",
     "output_type": "stream",
     "text": [
      "<class 'pandas.core.frame.DataFrame'>\n",
      "Index: 500 entries, 0 to 499\n",
      "Data columns (total 3 columns):\n",
      " #   Column      Non-Null Count  Dtype \n",
      "---  ------      --------------  ----- \n",
      " 0   query_id    500 non-null    object\n",
      " 1   query_text  500 non-null    object\n",
      " 2   image       500 non-null    object\n",
      "dtypes: object(3)\n",
      "memory usage: 15.6+ KB\n"
     ]
    }
   ],
   "source": [
    "display(test_queries.sample(10, random_state=1234))\n",
    "test_queries.info()"
   ]
  },
  {
   "cell_type": "code",
   "execution_count": 183,
   "id": "8c21571a",
   "metadata": {
    "id": "8c21571a",
    "outputId": "97faf80e-090e-4c11-fed0-bfa0eecf4c75"
   },
   "outputs": [
    {
     "data": {
      "text/html": [
       "<div>\n",
       "<style scoped>\n",
       "    .dataframe tbody tr th:only-of-type {\n",
       "        vertical-align: middle;\n",
       "    }\n",
       "\n",
       "    .dataframe tbody tr th {\n",
       "        vertical-align: top;\n",
       "    }\n",
       "\n",
       "    .dataframe thead th {\n",
       "        text-align: right;\n",
       "    }\n",
       "</style>\n",
       "<table border=\"1\" class=\"dataframe\">\n",
       "  <thead>\n",
       "    <tr style=\"text-align: right;\">\n",
       "      <th></th>\n",
       "      <th>image</th>\n",
       "      <th>query_id</th>\n",
       "      <th>query_text</th>\n",
       "    </tr>\n",
       "  </thead>\n",
       "  <tbody>\n",
       "    <tr>\n",
       "      <th>3745</th>\n",
       "      <td>542317719_ed4dd95dc2.jpg</td>\n",
       "      <td>2522297487_57edf117f7.jpg#2</td>\n",
       "      <td>a white woman in a green sweater holds a smili...</td>\n",
       "    </tr>\n",
       "    <tr>\n",
       "      <th>4492</th>\n",
       "      <td>3523874798_9ba2fa46e3.jpg</td>\n",
       "      <td>3702436188_2c26192fd0.jpg#2</td>\n",
       "      <td>A person on a skateboard .</td>\n",
       "    </tr>\n",
       "    <tr>\n",
       "      <th>2982</th>\n",
       "      <td>1674612291_7154c5ab61.jpg</td>\n",
       "      <td>3016606751_0e8be20abd.jpg#2</td>\n",
       "      <td>A man steps off of a boulder .</td>\n",
       "    </tr>\n",
       "    <tr>\n",
       "      <th>1663</th>\n",
       "      <td>136644343_0e2b423829.jpg</td>\n",
       "      <td>2518508760_68d8df7365.jpg#2</td>\n",
       "      <td>A greyhound wearing a muzzle and the number si...</td>\n",
       "    </tr>\n",
       "    <tr>\n",
       "      <th>2529</th>\n",
       "      <td>3571147934_d1c8af1d6e.jpg</td>\n",
       "      <td>1258913059_07c613f7ff.jpg#2</td>\n",
       "      <td>Three people sit at an outdoor cafe .</td>\n",
       "    </tr>\n",
       "    <tr>\n",
       "      <th>4164</th>\n",
       "      <td>491405109_798222cfd0.jpg</td>\n",
       "      <td>2490768374_45d94fc658.jpg#2</td>\n",
       "      <td>a young girl wearing blue smiles .</td>\n",
       "    </tr>\n",
       "    <tr>\n",
       "      <th>4855</th>\n",
       "      <td>979383193_0a542a059d.jpg</td>\n",
       "      <td>3585598356_8ce815bbb9.jpg#2</td>\n",
       "      <td>two woman are showing different facial express...</td>\n",
       "    </tr>\n",
       "    <tr>\n",
       "      <th>3240</th>\n",
       "      <td>3220161734_77f42734b9.jpg</td>\n",
       "      <td>3197981073_3156963446.jpg#2</td>\n",
       "      <td>A woman sings into a microphone while playing ...</td>\n",
       "    </tr>\n",
       "    <tr>\n",
       "      <th>1961</th>\n",
       "      <td>3375549004_beee810e60.jpg</td>\n",
       "      <td>2612488996_9450de0e54.jpg#2</td>\n",
       "      <td>A homeless man stands with a sign next to oran...</td>\n",
       "    </tr>\n",
       "    <tr>\n",
       "      <th>4394</th>\n",
       "      <td>3182121297_38c99b2769.jpg</td>\n",
       "      <td>2358561039_e215a8d6cd.jpg#2</td>\n",
       "      <td>Several dogs carry a man with a helmet through...</td>\n",
       "    </tr>\n",
       "  </tbody>\n",
       "</table>\n",
       "</div>"
      ],
      "text/plain": [
       "                          image                     query_id  \\\n",
       "3745   542317719_ed4dd95dc2.jpg  2522297487_57edf117f7.jpg#2   \n",
       "4492  3523874798_9ba2fa46e3.jpg  3702436188_2c26192fd0.jpg#2   \n",
       "2982  1674612291_7154c5ab61.jpg  3016606751_0e8be20abd.jpg#2   \n",
       "1663   136644343_0e2b423829.jpg  2518508760_68d8df7365.jpg#2   \n",
       "2529  3571147934_d1c8af1d6e.jpg  1258913059_07c613f7ff.jpg#2   \n",
       "4164   491405109_798222cfd0.jpg  2490768374_45d94fc658.jpg#2   \n",
       "4855   979383193_0a542a059d.jpg  3585598356_8ce815bbb9.jpg#2   \n",
       "3240  3220161734_77f42734b9.jpg  3197981073_3156963446.jpg#2   \n",
       "1961  3375549004_beee810e60.jpg  2612488996_9450de0e54.jpg#2   \n",
       "4394  3182121297_38c99b2769.jpg  2358561039_e215a8d6cd.jpg#2   \n",
       "\n",
       "                                             query_text  \n",
       "3745  a white woman in a green sweater holds a smili...  \n",
       "4492                         A person on a skateboard .  \n",
       "2982                     A man steps off of a boulder .  \n",
       "1663  A greyhound wearing a muzzle and the number si...  \n",
       "2529              Three people sit at an outdoor cafe .  \n",
       "4164                 a young girl wearing blue smiles .  \n",
       "4855  two woman are showing different facial express...  \n",
       "3240  A woman sings into a microphone while playing ...  \n",
       "1961  A homeless man stands with a sign next to oran...  \n",
       "4394  Several dogs carry a man with a helmet through...  "
      ]
     },
     "metadata": {},
     "output_type": "display_data"
    },
    {
     "name": "stdout",
     "output_type": "stream",
     "text": [
      "<class 'pandas.core.frame.DataFrame'>\n",
      "RangeIndex: 5822 entries, 0 to 5821\n",
      "Data columns (total 3 columns):\n",
      " #   Column      Non-Null Count  Dtype \n",
      "---  ------      --------------  ----- \n",
      " 0   image       5822 non-null   object\n",
      " 1   query_id    5822 non-null   object\n",
      " 2   query_text  5822 non-null   object\n",
      "dtypes: object(3)\n",
      "memory usage: 136.6+ KB\n"
     ]
    }
   ],
   "source": [
    "display(train_dataset.sample(10, random_state=1234))\n",
    "train_dataset.info()"
   ]
  },
  {
   "cell_type": "code",
   "execution_count": 184,
   "id": "3edc1b4d",
   "metadata": {
    "id": "3edc1b4d",
    "outputId": "0e60d0ee-92a3-44a9-ecdf-1196c8dfc5d8"
   },
   "outputs": [
    {
     "data": {
      "text/plain": [
       "100"
      ]
     },
     "execution_count": 184,
     "metadata": {},
     "output_type": "execute_result"
    }
   ],
   "source": [
    "len(test_queries['image'].unique())"
   ]
  },
  {
   "cell_type": "code",
   "execution_count": 185,
   "id": "ef3650b9",
   "metadata": {
    "id": "ef3650b9",
    "outputId": "4885491f-c983-4178-9390-9b24deda00eb"
   },
   "outputs": [
    {
     "data": {
      "text/plain": [
       "1000"
      ]
     },
     "execution_count": 185,
     "metadata": {},
     "output_type": "execute_result"
    }
   ],
   "source": [
    "len(train_dataset['image'].unique())"
   ]
  },
  {
   "cell_type": "markdown",
   "id": "52d50357",
   "metadata": {},
   "source": [
    "<img src=\"https://upload.wikimedia.org/wikipedia/commons/b/ba/Warning_sign_4.0.png\" align=left width=44, heigth=33>\n",
    "<div class=\"alert alert-warning\">\n",
    "А вот объединение тестовых данных с обучающими это абсолютно лишнее. Зачем ты это делаешь? Наоборот, хорошим тоном является \"отложить тестовые даные подальше и никак их не использовать\". И вот сейчас, когда ты получил тестовые данные в отдельных табличках ты все равно соединяешь их с обучающими.</div>"
   ]
  },
  {
   "cell_type": "code",
   "execution_count": 186,
   "id": "ac4d23a4",
   "metadata": {},
   "outputs": [
    {
     "data": {
      "text/html": [
       "<div>\n",
       "<style scoped>\n",
       "    .dataframe tbody tr th:only-of-type {\n",
       "        vertical-align: middle;\n",
       "    }\n",
       "\n",
       "    .dataframe tbody tr th {\n",
       "        vertical-align: top;\n",
       "    }\n",
       "\n",
       "    .dataframe thead th {\n",
       "        text-align: right;\n",
       "    }\n",
       "</style>\n",
       "<table border=\"1\" class=\"dataframe\">\n",
       "  <thead>\n",
       "    <tr style=\"text-align: right;\">\n",
       "      <th></th>\n",
       "      <th>image</th>\n",
       "      <th>query_id</th>\n",
       "      <th>percent_crowd</th>\n",
       "      <th>percent_expert</th>\n",
       "      <th>target</th>\n",
       "      <th>query_text</th>\n",
       "    </tr>\n",
       "  </thead>\n",
       "  <tbody>\n",
       "    <tr>\n",
       "      <th>0</th>\n",
       "      <td>1056338697_4f7d7ce270.jpg</td>\n",
       "      <td>2549968784_39bfbe44f9.jpg#2</td>\n",
       "      <td>0.000000</td>\n",
       "      <td>0.25</td>\n",
       "      <td>0.150000</td>\n",
       "      <td>A young child is wearing blue goggles and sitt...</td>\n",
       "    </tr>\n",
       "    <tr>\n",
       "      <th>1</th>\n",
       "      <td>1056338697_4f7d7ce270.jpg</td>\n",
       "      <td>2718495608_d8533e3ac5.jpg#2</td>\n",
       "      <td>0.000000</td>\n",
       "      <td>0.25</td>\n",
       "      <td>0.150000</td>\n",
       "      <td>A girl wearing a yellow shirt and sunglasses s...</td>\n",
       "    </tr>\n",
       "    <tr>\n",
       "      <th>2</th>\n",
       "      <td>1056338697_4f7d7ce270.jpg</td>\n",
       "      <td>434792818_56375e203f.jpg#2</td>\n",
       "      <td>0.000000</td>\n",
       "      <td>0.25</td>\n",
       "      <td>0.150000</td>\n",
       "      <td>A man and woman look back at the camera while ...</td>\n",
       "    </tr>\n",
       "    <tr>\n",
       "      <th>3</th>\n",
       "      <td>1082379191_ec1e53f996.jpg</td>\n",
       "      <td>1536774449_e16b1b6382.jpg#2</td>\n",
       "      <td>0.000000</td>\n",
       "      <td>NaN</td>\n",
       "      <td>0.000000</td>\n",
       "      <td>A crowd of people at an outdoor event</td>\n",
       "    </tr>\n",
       "    <tr>\n",
       "      <th>4</th>\n",
       "      <td>1084040636_97d9633581.jpg</td>\n",
       "      <td>256085101_2c2617c5d0.jpg#2</td>\n",
       "      <td>0.333333</td>\n",
       "      <td>0.75</td>\n",
       "      <td>0.583333</td>\n",
       "      <td>Close-up of dog in profile with mouth open .</td>\n",
       "    </tr>\n",
       "  </tbody>\n",
       "</table>\n",
       "</div>"
      ],
      "text/plain": [
       "                       image                     query_id  percent_crowd  \\\n",
       "0  1056338697_4f7d7ce270.jpg  2549968784_39bfbe44f9.jpg#2       0.000000   \n",
       "1  1056338697_4f7d7ce270.jpg  2718495608_d8533e3ac5.jpg#2       0.000000   \n",
       "2  1056338697_4f7d7ce270.jpg   434792818_56375e203f.jpg#2       0.000000   \n",
       "3  1082379191_ec1e53f996.jpg  1536774449_e16b1b6382.jpg#2       0.000000   \n",
       "4  1084040636_97d9633581.jpg   256085101_2c2617c5d0.jpg#2       0.333333   \n",
       "\n",
       "   percent_expert    target                                         query_text  \n",
       "0            0.25  0.150000  A young child is wearing blue goggles and sitt...  \n",
       "1            0.25  0.150000  A girl wearing a yellow shirt and sunglasses s...  \n",
       "2            0.25  0.150000  A man and woman look back at the camera while ...  \n",
       "3             NaN  0.000000              A crowd of people at an outdoor event  \n",
       "4            0.75  0.583333       Close-up of dog in profile with mouth open .  "
      ]
     },
     "metadata": {},
     "output_type": "display_data"
    },
    {
     "name": "stdout",
     "output_type": "stream",
     "text": [
      "<class 'pandas.core.frame.DataFrame'>\n",
      "RangeIndex: 5767 entries, 0 to 5766\n",
      "Data columns (total 6 columns):\n",
      " #   Column          Non-Null Count  Dtype  \n",
      "---  ------          --------------  -----  \n",
      " 0   image           5767 non-null   object \n",
      " 1   query_id        5767 non-null   object \n",
      " 2   percent_crowd   2329 non-null   float64\n",
      " 3   percent_expert  5696 non-null   float64\n",
      " 4   target          5767 non-null   float64\n",
      " 5   query_text      5767 non-null   object \n",
      "dtypes: float64(3), object(3)\n",
      "memory usage: 270.5+ KB\n"
     ]
    }
   ],
   "source": [
    "df = marks.merge(train_dataset, on=['query_id', 'image'], how='inner')\n",
    "display(df.head())\n",
    "df.info()"
   ]
  },
  {
   "cell_type": "markdown",
   "id": "a60e987d",
   "metadata": {},
   "source": [
    "<img src=\"https://upload.wikimedia.org/wikipedia/commons/thumb/8/81/Stop_sign.png/240px-Stop_sign.png\" align=left width=35, heigth=35>\n",
    "<div class=\"alert alert-danger\">\n",
    "Я вижу абслютно лишние действия... Вначале ты соединяешь данные испльзуя right-соединение, естественно туда попадают тестовые записи, и затем чистишь их руками. Пожалуйста убери все лишние операции. \n",
    "\n",
    "У тебя уже был датафрейм marks с оценками. Просто добавь в него строку с текстовыми описаниями, вся нужная информация есть в train_dataset. И не нужно в подготовке данных использовать тестовую выборку.\n",
    "\n",
    "</div>"
   ]
  },
  {
   "cell_type": "markdown",
   "id": "7cbaa861",
   "metadata": {
    "cellId": "9h91oxwx86d7i8rqt5miv4",
    "execution_id": "4401a0e8-fd2b-479b-9e84-6ffafbcead47",
    "id": "7cbaa861"
   },
   "source": [
    "## Проверка данных\n",
    "\n",
    "В некоторых странах, где работает ваша компания, действуют ограничения по обработке изображений: поисковым сервисам и сервисам, предоставляющим возможность поиска, запрещено без разрешения родителей или законных представителей предоставлять любую информацию, в том числе, но не исключительно тексты, изображения, видео и аудио, содержащие описание, изображение или запись голоса детей. Ребёнком считается любой человек, не достигший 16 лет.\n",
    "\n",
    "В вашем сервисе строго следуют законам стран, в которых работают. Поэтому при попытке посмотреть изображения, запрещённые законодательством, вместо картинок показывается дисклеймер:\n",
    "\n",
    "> This image is unavailable in your country in compliance with local laws\n",
    ">\n",
    "\n",
    "Однако у вас в PoC нет возможности воспользоваться данным функционалом. Поэтому все изображения, которые нарушают данный закон, нужно удалить из обучающей выборки."
   ]
  },
  {
   "cell_type": "code",
   "execution_count": 187,
   "id": "72747d84",
   "metadata": {
    "id": "72747d84",
    "outputId": "945b4a76-2c64-43d0-e16f-ca89dfa85211"
   },
   "outputs": [
    {
     "data": {
      "image/png": "[encoded data removed]",
      "text/plain": [
       "<Figure size 640x480 with 1 Axes>"
      ]
     },
     "metadata": {},
     "output_type": "display_data"
    }
   ],
   "source": [
    "wordcloud = WordCloud().generate(' '.join(df['query_text']))\n",
    "\n",
    "plt.imshow(wordcloud, interpolation='bilinear')\n",
    "plt.axis(\"off\")\n",
    "plt.show()"
   ]
  },
  {
   "cell_type": "code",
   "execution_count": 188,
   "id": "1d5b95e0",
   "metadata": {},
   "outputs": [],
   "source": [
    "illegal_words = ['boy', 'boys', 'girl', 'girls', 'young', 'child', 'children']\n",
    "df = df[~df['query_text'].apply(lambda x: len(list(set(x.split(' ')) & set(illegal_words))) > 0)].reset_index(drop=True)"
   ]
  },
  {
   "cell_type": "code",
   "execution_count": 189,
   "id": "7f091409",
   "metadata": {},
   "outputs": [
    {
     "data": {
      "image/png": "[encoded data removed]",
      "text/plain": [
       "<Figure size 640x480 with 1 Axes>"
      ]
     },
     "metadata": {},
     "output_type": "display_data"
    }
   ],
   "source": [
    "wordcloud = WordCloud().generate(' '.join(df['query_text']))\n",
    "\n",
    "plt.imshow(wordcloud, interpolation='bilinear')\n",
    "plt.axis(\"off\")\n",
    "plt.show()"
   ]
  },
  {
   "cell_type": "markdown",
   "id": "0db5f39a",
   "metadata": {},
   "source": [
    "<img src=\"https://upload.wikimedia.org/wikipedia/commons/thumb/8/81/Stop_sign.png/240px-Stop_sign.png\" align=left width=35, heigth=35>\n",
    "<div class=\"alert alert-danger\">\n",
    "Прошу почистить датасет от изображений с детьми.\n",
    "\n",
    "</div>"
   ]
  },
  {
   "cell_type": "markdown",
   "id": "aea53bf6",
   "metadata": {
    "cellId": "z8evfugfch8wpstvnxv0t",
    "execution_id": "028ade1d-49fe-4110-8b13-3c1aecdaa142",
    "id": "aea53bf6"
   },
   "source": [
    "## Векторизация текстов\n",
    "\n",
    "Следующий этап — векторизация текстов. Вы можете поэкспериментировать с несколькими способами векторизации текстов:\n",
    "\n",
    "- tf-idf\n",
    "- word2vec\n",
    "- \\*трансформеры (например Bert)\n",
    "\n",
    "\\* — если вы изучали трансформеры в спринте Машинное обучение для текстов.\n"
   ]
  },
  {
   "cell_type": "code",
   "execution_count": null,
   "id": "93d8a3bd",
   "metadata": {},
   "outputs": [],
   "source": [
    "MAX_LENGTH = max(df['query_text'].apply(lambda x: len(x)))\n",
    "print(MAX_LENGTH)\n",
    "\n",
    "tokenizer = transformers.AutoTokenizer.from_pretrained('distilbert-base-uncased')\n",
    "\n",
    "def tokenize(text, tokenizer, max_length, illegal_ids):\n",
    "    ids = tokenizer.encode(\n",
    "        text,\n",
    "        truncation=True,\n",
    "        max_length=max_length,\n",
    "        padding='max_length',\n",
    "        add_special_tokens=True\n",
    "    )\n",
    "    return ids\n",
    "\n",
    "def get_padded_mask(tokenized):\n",
    "    max_len = 0\n",
    "    for i in tokenized.values:\n",
    "        if len(i) > max_len:\n",
    "            max_len = len(i)\n",
    "\n",
    "    padded = np.array([i + [0]*(max_len-len(i)) for i in tokenized.values])\n",
    "    attention_mask = np.where(padded != 0, 1, 0)\n",
    "\n",
    "    return padded, attention_mask\n",
    "    \n",
    "tokenized = df['query_text'].parallel_apply(tokenize, tokenizer=tokenizer, max_length=MAX_LENGTH, illegal_ids=illegal_ids)\n",
    "\n",
    "padded, attention_mask = get_padded_mask(tokenized)"
   ]
  },
  {
   "cell_type": "code",
   "execution_count": 340,
   "id": "e678682b",
   "metadata": {},
   "outputs": [],
   "source": [
    "def get_bert_embeddings(padded, attention_mask):\n",
    "    device = 'cuda' if torch.cuda.is_available() else 'cpu'\n",
    "\n",
    "    bert = transformers.AutoModel.from_pretrained(\"distilbert-base-uncased\")\n",
    "    bert = bert.to(device)\n",
    "\n",
    "    embeddings = []\n",
    "\n",
    "    batch_size = 32\n",
    "\n",
    "    for i in tqdm(range(padded.shape[0] // batch_size)):\n",
    "        \n",
    "        batch = torch.LongTensor(padded[batch_size*i:batch_size*(i+1)]).to(device)\n",
    "        \n",
    "        attention_mask_batch = torch.BoolTensor(attention_mask[batch_size*i:batch_size*(i+1)]).to(device)\n",
    "\n",
    "        batch_embeddings = bert(batch, attention_mask=attention_mask_batch) \n",
    "\n",
    "        with torch.no_grad():\n",
    "            batch_embeddings = bert(\n",
    "                input_ids=batch, \n",
    "                attention_mask=attention_mask_batch\n",
    "            )\n",
    "\n",
    "            last_hidden_states = batch_embeddings.last_hidden_state.to('cpu')\n",
    "\n",
    "            embeddings += last_hidden_states[:, 0, :].tolist()\n",
    "\n",
    "    return embeddings"
   ]
  },
  {
   "cell_type": "code",
   "execution_count": 341,
   "id": "c6dccd1b",
   "metadata": {},
   "outputs": [
    {
     "name": "stderr",
     "output_type": "stream",
     "text": [
      "100%|██████████| 136/136 [00:14<00:00,  9.12it/s]\n"
     ]
    }
   ],
   "source": [
    "text_embeddings = get_bert_embeddings(padded, attention_mask)"
   ]
  },
  {
   "cell_type": "markdown",
   "id": "fe3b6be0",
   "metadata": {},
   "source": [
    "<img src=\"https://upload.wikimedia.org/wikipedia/commons/thumb/8/81/Stop_sign.png/240px-Stop_sign.png\" align=left width=35, heigth=35>\n",
    "<div class=\"alert alert-danger\">\n",
    "К сожалению векторизацию с помощю BERT ты выполнил неверно. Основаня идея - получения эмбеддинга с помощью модели BERT. А ты просто испольовал номера токенов в словаре (деленные на длинну словаря) как признак, что не соответствет тому, что мы изучали в курсе.\n",
    "\n",
    "Пожалуйста переделай этот пункт, советую обратиться к спринту \"МО для текстов\", там есть все образцы кода.\n",
    "</div>"
   ]
  },
  {
   "cell_type": "markdown",
   "id": "7e88b344",
   "metadata": {},
   "source": [
    "<img src=\"https://upload.wikimedia.org/wikipedia/commons/b/ba/Warning_sign_4.0.png\" align=left width=44, heigth=33>\n",
    "<div class=\"alert alert-warning\">\n",
    "Еще пара замечаний. Если   тебя есть текстовое описание -  у него должно быть вектопрное представление. Отккуда взялись пропуски мне не очень понятно.\n",
    "\n",
    "И второе. Не нужно \"тянуть\" матрицы признаков в датафрейм. Советую оставаться в матрицах нумпай, это базовый тип данных для машинного обучения.\n",
    "</div>"
   ]
  },
  {
   "cell_type": "markdown",
   "id": "cdbbde81",
   "metadata": {
    "id": "cdbbde81"
   },
   "source": [
    "#### Вывод:\n",
    "Был сформирован датасет с текстами, закодированными с помощью DistilBert."
   ]
  },
  {
   "cell_type": "markdown",
   "id": "1d4ef807",
   "metadata": {
    "cellId": "ggxcvhmhcm9rshysbjoo4n",
    "execution_id": "d7935f99-48c0-42b8-a227-dd2b2d9b70fc",
    "id": "1d4ef807"
   },
   "source": [
    "## Векторизация изображений\n",
    "\n",
    "Перейдём к векторизации изображений.\n",
    "\n",
    "Самый примитивный способ — прочесть изображение и превратить полученную матрицу в вектор. Такой способ нам не подходит: длина векторов может быть сильно разной, так как размеры изображений разные. Поэтому стоит обратиться к свёрточным сетям: они позволяют \"выделить\" главные компоненты изображений. Как это сделать? Нужно выбрать какую-либо архитектуру, например ResNet-18, посмотреть на слои и исключить полносвязные слои, которые отвечают за конечное предсказание. При этом можно загрузить модель данной архитектуры, предварительно натренированную на датасете ImageNet."
   ]
  },
  {
   "cell_type": "code",
   "execution_count": 342,
   "id": "955c6a98",
   "metadata": {},
   "outputs": [
    {
     "name": "stdout",
     "output_type": "stream",
     "text": [
      "cuda\n"
     ]
    }
   ],
   "source": [
    "device = 'cuda' if torch.cuda.is_available() else 'cpu'\n",
    "print(device)"
   ]
  },
  {
   "cell_type": "code",
   "execution_count": 343,
   "id": "f88a46de",
   "metadata": {},
   "outputs": [],
   "source": [
    "images = train_dataset['image'].unique()\n",
    "\n",
    "def get_image_embeddings(images, dir):\n",
    "    embeddings = {}\n",
    "    with torch.no_grad():\n",
    "        feature_extractor = AutoFeatureExtractor.from_pretrained(\"microsoft/resnet-18\")\n",
    "        model = ResNetModel.from_pretrained(\"microsoft/resnet-18\").to(device)\n",
    "        for i in tqdm(range(len(images))):\n",
    "            filename = images[i]\n",
    "            image = Image.open(f'{dir}/{filename}')\n",
    "            inputs = feature_extractor(image, return_tensors=\"pt\").to(device)\n",
    "            last_hidden_state = model(**inputs).last_hidden_state\n",
    "            embeddings[filename] = last_hidden_state[:, :, 0, 0].to('cpu').flatten().tolist()\n",
    "\n",
    "    return embeddings\n"
   ]
  },
  {
   "cell_type": "code",
   "execution_count": 344,
   "id": "20a24fa9",
   "metadata": {},
   "outputs": [
    {
     "name": "stderr",
     "output_type": "stream",
     "text": [
      "/home/k-avtonomov/miniconda3/envs/tfdml_plugin/lib/python3.9/site-packages/transformers/models/convnext/feature_extraction_convnext.py:28: FutureWarning: The class ConvNextFeatureExtractor is deprecated and will be removed in version 5 of Transformers. Please use ConvNextImageProcessor instead.\n",
      "  warnings.warn(\n",
      "100%|██████████| 1000/1000 [00:17<00:00, 58.13it/s]\n"
     ]
    }
   ],
   "source": [
    "image_embeddings = get_image_embeddings(images, dir=f'{ORIGINAL_DIR}/train_images')"
   ]
  },
  {
   "cell_type": "code",
   "execution_count": 200,
   "id": "ee91d524",
   "metadata": {
    "id": "ee91d524",
    "outputId": "f0e7b96c-1a36-4de1-8453-a4d247c0fba2"
   },
   "outputs": [],
   "source": [
    "# model = ResNet50(weights='imagenet', include_top=False,input_shape=(224, 224, 3), pooling='max')\n",
    "\n",
    "# def read_img_file(f):\n",
    "#     img = Image.open(f)\n",
    "#     if img.mode != 'RGB':\n",
    "#         img = img.convert('RGB')\n",
    "#     return img\n",
    "\n",
    "# def resize_img_to_array(img, img_shape):\n",
    "#     img_array = np.array(\n",
    "#         img.resize(\n",
    "#             img_shape,\n",
    "#             Image.LANCZOS\n",
    "#         )\n",
    "#     )\n",
    "#     return img_array\n",
    "\n",
    "# def get_features(img):\n",
    "#     img_width, img_height = 224, 224\n",
    "#     np_img = resize_img_to_array(img, img_shape=(img_width, img_height))\n",
    "#     expanded_img_array = np.expand_dims(np_img, axis=0)\n",
    "#     preprocessed_img = preprocess_input(expanded_img_array)\n",
    "#     X_conv = model.predict(preprocessed_img, verbose=0)\n",
    "#     image_features=X_conv[0]\n",
    "#     image_features /=  np.linalg.norm(image_features)\n",
    "#     return image_features\n"
   ]
  },
  {
   "cell_type": "code",
   "execution_count": 201,
   "id": "79973efa",
   "metadata": {
    "id": "79973efa"
   },
   "outputs": [],
   "source": [
    "# images = pd.DataFrame(listdir(f'{ORIGINAL_DIR}/images'), columns=['image'])\n",
    "# images = images[images['image'] != '.DS_Store']"
   ]
  },
  {
   "cell_type": "code",
   "execution_count": 202,
   "id": "25340a0c",
   "metadata": {
    "id": "25340a0c",
    "outputId": "a4348437-501c-4fda-d5c4-b28ae4809695"
   },
   "outputs": [],
   "source": [
    "# def read_img_features(filename, ORIGINAL_DIR=ORIGINAL_DIR, get_features=get_features):\n",
    "#     image = Image.open(f'{ORIGINAL_DIR}/images/{filename}')\n",
    "#     return get_features(image)\n",
    "\n",
    "# images['tensor'] = images['image'].progress_apply(read_img_features, ORIGINAL_DIR=ORIGINAL_DIR, get_features=get_features)"
   ]
  },
  {
   "cell_type": "markdown",
   "id": "13fc17e8",
   "metadata": {},
   "source": [
    "<img src=\"https://emojigraph.org/media/apple/check-mark-button_2705.png\" align=left width=33, heigth=33>\n",
    "<div class=\"alert alert-success\">\n",
    "Здесь все ОК, векторизация изображений произведена верно </div>"
   ]
  },
  {
   "cell_type": "markdown",
   "id": "a761f71f",
   "metadata": {},
   "source": [
    "<img src=\"https://upload.wikimedia.org/wikipedia/commons/b/ba/Warning_sign_4.0.png\" align=left width=44, heigth=33>\n",
    "<div class=\"alert alert-warning\">\n",
    "Но вот центральным объектом у тебя по прежнему является датафрейм, где ты собираешь все признаки, даже функция заточена под это...  \n",
    "\n",
    "Более оптимальной практикой является создание датагенератора, который будет пропускать изображения пачками и формировать матрицу признаков.\n",
    "    \n",
    "        \n",
    "\n",
    "</div>"
   ]
  },
  {
   "cell_type": "markdown",
   "id": "a410984e",
   "metadata": {
    "id": "a410984e"
   },
   "source": [
    "#### Вывод:\n",
    "Был сформирован обьект с изображениями, из которых с помощью ResNet18 был получен вектор, длиной 512."
   ]
  },
  {
   "cell_type": "markdown",
   "id": "760c0ccd",
   "metadata": {
    "cellId": "yci1zcmnsacl720fr75sb",
    "execution_id": "5ecfa9d5-3913-4fb3-a33e-99bab3798577",
    "id": "760c0ccd"
   },
   "source": [
    "## Объединение векторов\n",
    "\n",
    "Подготовьте данные для обучения: объедините векторы изображений и векторы текстов с целевой переменной."
   ]
  },
  {
   "cell_type": "code",
   "execution_count": 203,
   "id": "e5eb8d49",
   "metadata": {},
   "outputs": [
    {
     "name": "stdout",
     "output_type": "stream",
     "text": [
      "<class 'pandas.core.frame.DataFrame'>\n",
      "RangeIndex: 4369 entries, 0 to 4368\n",
      "Data columns (total 6 columns):\n",
      " #   Column          Non-Null Count  Dtype  \n",
      "---  ------          --------------  -----  \n",
      " 0   image           4369 non-null   object \n",
      " 1   query_id        4369 non-null   object \n",
      " 2   percent_crowd   1832 non-null   float64\n",
      " 3   percent_expert  4316 non-null   float64\n",
      " 4   target          4369 non-null   float64\n",
      " 5   query_text      4369 non-null   object \n",
      "dtypes: float64(3), object(3)\n",
      "memory usage: 204.9+ KB\n"
     ]
    }
   ],
   "source": [
    "df.info()"
   ]
  },
  {
   "cell_type": "code",
   "execution_count": 345,
   "id": "1bb9c74d",
   "metadata": {},
   "outputs": [],
   "source": [
    "embeddings = []\n",
    "targets = []\n",
    "image_labels = []\n",
    "for i in range(len(text_embeddings)):\n",
    "    record = df.iloc[i]\n",
    "    embeddings += [image_embeddings[record['image']] + text_embeddings[i]]\n",
    "    targets += [record['target']]\n",
    "    image_labels += [record['image']]"
   ]
  },
  {
   "cell_type": "markdown",
   "id": "ea76b68d",
   "metadata": {},
   "source": [
    "<img src=\"https://emojigraph.org/media/apple/check-mark-button_2705.png\" align=left width=33, heigth=33>\n",
    "<div class=\"alert alert-success\">\n",
    " Вектора, полученные из текста и изображения объеденены👍 </div>"
   ]
  },
  {
   "cell_type": "markdown",
   "id": "e51f16d7",
   "metadata": {},
   "source": [
    "<img src=\"https://upload.wikimedia.org/wikipedia/commons/b/ba/Warning_sign_4.0.png\" align=left width=44, heigth=33>\n",
    "<div class=\"alert alert-warning\">\n",
    "Соединенеие признаков внутри одного датафрейма приводит к сильным затратам по памяти..  Как я уже писал тебе ранее, правильнее все матрицы признаков хранрить в формате numpy array и конкатенировать.\n",
    "</div>"
   ]
  },
  {
   "cell_type": "markdown",
   "id": "254f5ea2",
   "metadata": {
    "id": "254f5ea2"
   },
   "source": [
    "#### Вывод:\n",
    "Здесь объединены вектора изображений (512) и текстов (768) с целевой переменной."
   ]
  },
  {
   "cell_type": "markdown",
   "id": "60bc5668",
   "metadata": {
    "cellId": "97c9jj3s2zjj62vznivsk",
    "execution_id": "1a2d7233-0c79-479a-be63-5787145e3b48",
    "id": "60bc5668"
   },
   "source": [
    "## Обучение модели предсказания соответствия\n",
    "\n",
    "Для обучения разделите датасет на тренировочную и тестовую выборки. Простое случайное разбиение не подходит: нужно исключить попадание изображения и в обучающую, и в тестовую выборки.\n",
    "Для того чтобы учесть изображения при разбиении, можно воспользоваться классом [GroupShuffleSplit](https://scikit-learn.org/stable/modules/generated/sklearn.model_selection.GroupShuffleSplit.html) из библиотеки sklearn.model_selection.\n",
    "\n",
    "Код ниже разбивает датасет на тренировочную и тестовую выборки в пропорции 7:3 так, что строки с одинаковым значением 'group_column' будут содержаться либо в тестовом, либо в тренировочном датасете.\n",
    "\n",
    "```\n",
    "from sklearn.model_selection import GroupShuffleSplit\n",
    "gss = GroupShuffleSplit(n_splits=1, train_size=.7, random_state=42)\n",
    "train_indices, test_indices = next(gss.split(X=df.drop(columns=['target']), y=df['target'], groups=df['group_column']))\n",
    "train_df, test_df = df.loc[train_indices], df.loc[test_indices]\n",
    "\n",
    "```\n",
    "\n",
    "Какую модель использовать — выберите самостоятельно. Также вам предстоит выбрать метрику качества либо реализовать свою."
   ]
  },
  {
   "cell_type": "markdown",
   "id": "7a5dec25",
   "metadata": {},
   "source": [
    "<img src=\"https://upload.wikimedia.org/wikipedia/commons/thumb/8/81/Stop_sign.png/240px-Stop_sign.png\" align=left width=35, heigth=35>\n",
    "<div class=\"alert alert-danger\">\n",
    "Здесь я вижу путаницу в выборках. Тестовая выборка (на чем мы должны оценивать итоговую модель) - это именно то, что ты загружил из отдельных файлов. А то, что ты ниже отрезаешь от обучающей выборке - это и есть валидационная. По ней мы подбираем гиперпараметры или оцениваем модели.  </div>"
   ]
  },
  {
   "cell_type": "code",
   "execution_count": 346,
   "id": "a723a8ad",
   "metadata": {
    "cellId": "v1ntb27jt4z9fazi1y8me",
    "id": "a723a8ad"
   },
   "outputs": [],
   "source": [
    "gss = GroupShuffleSplit(n_splits=1, train_size=.7, random_state=42)\n",
    "train_indices, test_indices = next(gss.split(X=embeddings, y=targets, groups=image_labels))\n",
    "# train_df, test_df = train_test_df.loc[train_indices], train_test_df.loc[test_indices]"
   ]
  },
  {
   "cell_type": "markdown",
   "id": "7ea32344",
   "metadata": {},
   "source": [
    "<img src=\"https://emojigraph.org/media/apple/check-mark-button_2705.png\" align=left width=33, heigth=33>\n",
    "<div class=\"alert alert-success\">\n",
    "Отлично, благодаря использованию GroupShuffleSplit ты исключаешь попадание одного изображения в обучающий и валидационный наборы.</div>"
   ]
  },
  {
   "cell_type": "code",
   "execution_count": 350,
   "id": "d5e543b8",
   "metadata": {},
   "outputs": [
    {
     "data": {
      "text/plain": [
       "3047"
      ]
     },
     "execution_count": 350,
     "metadata": {},
     "output_type": "execute_result"
    }
   ],
   "source": [
    "len(np.array(embeddings)[np.array(train_indices)])"
   ]
  },
  {
   "cell_type": "code",
   "execution_count": 351,
   "id": "375539ed",
   "metadata": {},
   "outputs": [
    {
     "data": {
      "text/plain": [
       "1305"
      ]
     },
     "execution_count": 351,
     "metadata": {},
     "output_type": "execute_result"
    }
   ],
   "source": [
    "len(np.array(embeddings)[np.array(test_indices)])"
   ]
  },
  {
   "cell_type": "code",
   "execution_count": 394,
   "id": "3328da02",
   "metadata": {},
   "outputs": [],
   "source": [
    "model = nn.Sequential(\n",
    "  nn.Linear(768+512,1024),\n",
    "  nn.ReLU(),\n",
    "  nn.Linear(1024, 512),\n",
    "  nn.ReLU(),\n",
    "  nn.Linear(512, 248),\n",
    "  nn.ReLU(),\n",
    "  nn.Linear(248, 64),\n",
    "  nn.ReLU(),\n",
    "  nn.Linear(64, 1),\n",
    "  nn.ReLU(),\n",
    ")"
   ]
  },
  {
   "cell_type": "code",
   "execution_count": 395,
   "id": "742293f4",
   "metadata": {},
   "outputs": [],
   "source": [
    "def train_nn(net, X_train, y_train, X_test, y_test, num_epochs = 100, period = 10, batch_size = 100, verbose=True):\n",
    "    train_dataset = TensorDataset(X_train, y_train)\n",
    "    train_loader = DataLoader(train_dataset, batch_size=batch_size, shuffle=True)\n",
    "    \n",
    "    optimizer = torch.optim.Adam(net.parameters(), lr=1e-3)\n",
    "\n",
    "    loss = nn.MSELoss()\n",
    "\n",
    "    for epoch in range(num_epochs):\n",
    "        for i, (x, y) in enumerate(train_loader): \n",
    "\n",
    "            optimizer.zero_grad()\n",
    "            # print(x, y)\n",
    "            preds = net.forward(x).flatten()\n",
    "\n",
    "\n",
    "            loss_value = loss(preds, y)\n",
    "\n",
    "            loss_value.backward()\n",
    "\n",
    "            optimizer.step()\n",
    "\n",
    "        \n",
    "        if epoch % period == 0 or epoch == num_epochs - 1:\n",
    "            with torch.no_grad():\n",
    "                net.eval()\n",
    "                test_preds = net.forward(X_test)\n",
    "                test_preds = torch.reshape(test_preds.detach(), (-1,))\n",
    "\n",
    "                score = mean_squared_error(test_preds, y_test, squared=False)\n",
    "\n",
    "                if verbose:\n",
    "                    print(f'RMSE: {score}')\n",
    "\n",
    "                net.train()\n",
    "        \n",
    "    return score, net  "
   ]
  },
  {
   "cell_type": "code",
   "execution_count": 396,
   "id": "ea3c9d7a",
   "metadata": {},
   "outputs": [
    {
     "name": "stdout",
     "output_type": "stream",
     "text": [
      "RMSE: 0.20335282385349274\n",
      "RMSE: 0.20424945652484894\n",
      "RMSE: 0.20813748240470886\n",
      "RMSE: 0.21199989318847656\n",
      "RMSE: 0.214702770113945\n",
      "RMSE: 0.21338467299938202\n"
     ]
    },
    {
     "ename": "KeyboardInterrupt",
     "evalue": "",
     "output_type": "error",
     "traceback": [
      "\u001b[0;31m---------------------------------------------------------------------------\u001b[0m",
      "\u001b[0;31mKeyboardInterrupt\u001b[0m                         Traceback (most recent call last)",
      "Cell \u001b[0;32mIn[396], line 1\u001b[0m\n\u001b[0;32m----> 1\u001b[0m train_nn(\n\u001b[1;32m      2\u001b[0m     model, \n\u001b[1;32m      3\u001b[0m     torch\u001b[39m.\u001b[39;49mTensor(np\u001b[39m.\u001b[39;49marray(embeddings)[np\u001b[39m.\u001b[39;49marray(train_indices)]),\n\u001b[1;32m      4\u001b[0m     torch\u001b[39m.\u001b[39;49mTensor(np\u001b[39m.\u001b[39;49marray(targets)[np\u001b[39m.\u001b[39;49marray(train_indices)]),\n\u001b[1;32m      5\u001b[0m     torch\u001b[39m.\u001b[39;49mTensor(np\u001b[39m.\u001b[39;49marray(embeddings)[np\u001b[39m.\u001b[39;49marray(test_indices)]),\n\u001b[1;32m      6\u001b[0m     torch\u001b[39m.\u001b[39;49mTensor(np\u001b[39m.\u001b[39;49marray(targets)[np\u001b[39m.\u001b[39;49marray(test_indices)])\n\u001b[1;32m      7\u001b[0m )\n",
      "Cell \u001b[0;32mIn[395], line 14\u001b[0m, in \u001b[0;36mtrain_nn\u001b[0;34m(net, X_train, y_train, X_test, y_test, num_epochs, period, batch_size, verbose)\u001b[0m\n\u001b[1;32m     12\u001b[0m optimizer\u001b[39m.\u001b[39mzero_grad()\n\u001b[1;32m     13\u001b[0m \u001b[39m# print(x, y)\u001b[39;00m\n\u001b[0;32m---> 14\u001b[0m preds \u001b[39m=\u001b[39m net\u001b[39m.\u001b[39;49mforward(x)\u001b[39m.\u001b[39mflatten()\n\u001b[1;32m     17\u001b[0m loss_value \u001b[39m=\u001b[39m loss(preds, y)\n\u001b[1;32m     19\u001b[0m loss_value\u001b[39m.\u001b[39mbackward()\n",
      "File \u001b[0;32m~/miniconda3/envs/tfdml_plugin/lib/python3.9/site-packages/torch/nn/modules/container.py:217\u001b[0m, in \u001b[0;36mSequential.forward\u001b[0;34m(self, input)\u001b[0m\n\u001b[1;32m    215\u001b[0m \u001b[39mdef\u001b[39;00m \u001b[39mforward\u001b[39m(\u001b[39mself\u001b[39m, \u001b[39minput\u001b[39m):\n\u001b[1;32m    216\u001b[0m     \u001b[39mfor\u001b[39;00m module \u001b[39min\u001b[39;00m \u001b[39mself\u001b[39m:\n\u001b[0;32m--> 217\u001b[0m         \u001b[39minput\u001b[39m \u001b[39m=\u001b[39m module(\u001b[39minput\u001b[39;49m)\n\u001b[1;32m    218\u001b[0m     \u001b[39mreturn\u001b[39;00m \u001b[39minput\u001b[39m\n",
      "File \u001b[0;32m~/miniconda3/envs/tfdml_plugin/lib/python3.9/site-packages/torch/nn/modules/module.py:1501\u001b[0m, in \u001b[0;36mModule._call_impl\u001b[0;34m(self, *args, **kwargs)\u001b[0m\n\u001b[1;32m   1496\u001b[0m \u001b[39m# If we don't have any hooks, we want to skip the rest of the logic in\u001b[39;00m\n\u001b[1;32m   1497\u001b[0m \u001b[39m# this function, and just call forward.\u001b[39;00m\n\u001b[1;32m   1498\u001b[0m \u001b[39mif\u001b[39;00m \u001b[39mnot\u001b[39;00m (\u001b[39mself\u001b[39m\u001b[39m.\u001b[39m_backward_hooks \u001b[39mor\u001b[39;00m \u001b[39mself\u001b[39m\u001b[39m.\u001b[39m_backward_pre_hooks \u001b[39mor\u001b[39;00m \u001b[39mself\u001b[39m\u001b[39m.\u001b[39m_forward_hooks \u001b[39mor\u001b[39;00m \u001b[39mself\u001b[39m\u001b[39m.\u001b[39m_forward_pre_hooks\n\u001b[1;32m   1499\u001b[0m         \u001b[39mor\u001b[39;00m _global_backward_pre_hooks \u001b[39mor\u001b[39;00m _global_backward_hooks\n\u001b[1;32m   1500\u001b[0m         \u001b[39mor\u001b[39;00m _global_forward_hooks \u001b[39mor\u001b[39;00m _global_forward_pre_hooks):\n\u001b[0;32m-> 1501\u001b[0m     \u001b[39mreturn\u001b[39;00m forward_call(\u001b[39m*\u001b[39;49margs, \u001b[39m*\u001b[39;49m\u001b[39m*\u001b[39;49mkwargs)\n\u001b[1;32m   1502\u001b[0m \u001b[39m# Do not call functions when jit is used\u001b[39;00m\n\u001b[1;32m   1503\u001b[0m full_backward_hooks, non_full_backward_hooks \u001b[39m=\u001b[39m [], []\n",
      "File \u001b[0;32m~/miniconda3/envs/tfdml_plugin/lib/python3.9/site-packages/torch/nn/modules/activation.py:103\u001b[0m, in \u001b[0;36mReLU.forward\u001b[0;34m(self, input)\u001b[0m\n\u001b[1;32m    102\u001b[0m \u001b[39mdef\u001b[39;00m \u001b[39mforward\u001b[39m(\u001b[39mself\u001b[39m, \u001b[39minput\u001b[39m: Tensor) \u001b[39m-\u001b[39m\u001b[39m>\u001b[39m Tensor:\n\u001b[0;32m--> 103\u001b[0m     \u001b[39mreturn\u001b[39;00m F\u001b[39m.\u001b[39;49mrelu(\u001b[39minput\u001b[39;49m, inplace\u001b[39m=\u001b[39;49m\u001b[39mself\u001b[39;49m\u001b[39m.\u001b[39;49minplace)\n",
      "File \u001b[0;32m~/miniconda3/envs/tfdml_plugin/lib/python3.9/site-packages/torch/nn/functional.py:1457\u001b[0m, in \u001b[0;36mrelu\u001b[0;34m(input, inplace)\u001b[0m\n\u001b[1;32m   1455\u001b[0m     result \u001b[39m=\u001b[39m torch\u001b[39m.\u001b[39mrelu_(\u001b[39minput\u001b[39m)\n\u001b[1;32m   1456\u001b[0m \u001b[39melse\u001b[39;00m:\n\u001b[0;32m-> 1457\u001b[0m     result \u001b[39m=\u001b[39m torch\u001b[39m.\u001b[39;49mrelu(\u001b[39minput\u001b[39;49m)\n\u001b[1;32m   1458\u001b[0m \u001b[39mreturn\u001b[39;00m result\n",
      "\u001b[0;31mKeyboardInterrupt\u001b[0m: "
     ]
    }
   ],
   "source": [
    "train_nn(\n",
    "    model, \n",
    "    torch.Tensor(np.array(embeddings)[np.array(train_indices)]),\n",
    "    torch.Tensor(np.array(targets)[np.array(train_indices)]),\n",
    "    torch.Tensor(np.array(embeddings)[np.array(test_indices)]),\n",
    "    torch.Tensor(np.array(targets)[np.array(test_indices)])\n",
    ")"
   ]
  },
  {
   "cell_type": "code",
   "execution_count": null,
   "id": "97d66eda",
   "metadata": {
    "id": "97d66eda",
    "outputId": "842a476b-2474-40f5-a919-f0fb33f99d2d"
   },
   "outputs": [],
   "source": [
    "# model = Sequential()\n",
    "# model.add(Dense(768+512, activation='relu'))\n",
    "# model.add(Dropout(rate=0.2))\n",
    "# model.add(Flatten())\n",
    "# model.add(Dense(units=1024, activation='relu'))\n",
    "# model.add(Dense(units=512, activation='relu'))\n",
    "# model.add(Dense(units=248, activation='relu'))\n",
    "# model.add(Dense(units=64, activation='relu'))\n",
    "# model.add(Dense(units=1, activation='relu'))\n",
    "\n",
    "# optimizer = Adam(learning_rate=0.0005)\n",
    "\n",
    "# model.compile(optimizer=optimizer, loss='mse', metrics=[MeanAbsoluteError()])\n",
    "\n",
    "# model.fit(pd.DataFrame(train_test_df['features'].to_list()).add_prefix('feature_'), train_test_df['target'], batch_size=32, epochs=40)"
   ]
  },
  {
   "cell_type": "markdown",
   "id": "f5af8c8f",
   "metadata": {
    "id": "diQyugE-EoPS"
   },
   "source": [
    "<img src=\"https://upload.wikimedia.org/wikipedia/commons/b/ba/Warning_sign_4.0.png\" align=left width=44, heigth=33>\n",
    "<div class=\"alert alert-warning\">\n",
    "Во первых, количество нейронов в первом слое модели может быть любым, оно не обязано совпадать с размерностью вектора признака.\n",
    "\n",
    "Во вторых, не нужно добавлять Flatten после каждого слоя. Потому что после применения полносвязного слоя к вектору получается снова вектор (полносвязный слой эквивалентен умножению на матрицу + добавление вектора смещения и применение нелинейности).\n",
    "    \n",
    "Также старайся количество нейронов в слое и размер батча привязывать к степени 2. Так оптимальнее с точки зрения испльзования ресурсов видеокарты. 512...64...64... 16....8    \n",
    "</div>"
   ]
  },
  {
   "cell_type": "code",
   "execution_count": null,
   "id": "56d498f8",
   "metadata": {
    "id": "56d498f8",
    "outputId": "a966d47c-1c45-4144-b90c-cf9c57d224bb"
   },
   "outputs": [],
   "source": [
    "y_true = list(test_df['target'])\n",
    "y_pred = model.predict(pd.DataFrame(test_df['features'].to_list()).add_prefix('feature_')).flatten()"
   ]
  },
  {
   "cell_type": "code",
   "execution_count": null,
   "id": "7d46f8aa",
   "metadata": {
    "id": "7d46f8aa",
    "outputId": "81a75c1e-1327-457a-fbf9-80a89046d148"
   },
   "outputs": [],
   "source": [
    "plt.hist(y_pred, bins=50)\n",
    "plt.grid()\n",
    "None"
   ]
  },
  {
   "cell_type": "code",
   "execution_count": null,
   "id": "d908ed04",
   "metadata": {
    "id": "d908ed04",
    "outputId": "f64ce616-ddb9-4d31-f91c-9a2856af5b46"
   },
   "outputs": [],
   "source": [
    "plt.hist(y_true, bins=50)\n",
    "plt.grid()\n",
    "None"
   ]
  },
  {
   "cell_type": "code",
   "execution_count": null,
   "id": "dc5141e4",
   "metadata": {
    "id": "dc5141e4",
    "outputId": "9435864c-e62e-46b6-fe61-d472391a3afc"
   },
   "outputs": [],
   "source": [
    "print(f'MAE тестовой {mean_absolute_error(y_true, y_pred)}')"
   ]
  },
  {
   "cell_type": "markdown",
   "id": "e3447b65",
   "metadata": {
    "id": "e3447b65"
   },
   "source": [
    "#### Вывод\n",
    "В качестве метрики качества выбрана MAE, поскольку необходимо предсказать значение схожести в промежутке [0,1], это позволяет наглядно видеть, насколько сильно ошибается модель."
   ]
  },
  {
   "cell_type": "markdown",
   "id": "0a018c67",
   "metadata": {},
   "source": [
    "<img src=\"https://upload.wikimedia.org/wikipedia/commons/thumb/8/81/Stop_sign.png/240px-Stop_sign.png\" align=left width=35, heigth=35>\n",
    "<div class=\"alert alert-danger\">\n",
    "Ты иследовал только одну модель, но по условиям проекта моделей должно быть минимум две. Можешь попробовать использовать любую  \"классическую\" модель, например линейную регрессию или бустинг.</div>"
   ]
  },
  {
   "cell_type": "markdown",
   "id": "2f870d77",
   "metadata": {
    "cellId": "tbnfwg686jpxjdsw7cqbl",
    "execution_id": "5e14c3be-a481-438e-a979-0f4621acea44",
    "id": "2f870d77"
   },
   "source": [
    "## 7. Тестирование модели\n",
    "\n",
    "Настало время протестировать модель. Для этого получите эмбеддинги для всех тестовых изображений из папки `test_images`, выберите случайные 10 запросов из файла `test_queries.csv` и для каждого запроса выведите наиболее релевантное изображение. Сравните визуально качество поиска."
   ]
  },
  {
   "cell_type": "code",
   "execution_count": null,
   "id": "510b6e44",
   "metadata": {
    "id": "510b6e44"
   },
   "outputs": [],
   "source": [
    "# train_queries = train_df[train_df['type'] == 'train'][['query_id', 'query_text', 'image']].drop_duplicates(['query_id'])[0:10].reset_index(drop=True)\n",
    "# train_images = train_df[train_df['type'] == 'train'].drop_duplicates(['image'])\n",
    "# valid_img_tensor = train_df[train_df['image'].isin(train_images['image'])][['image', 'tensor']].drop_duplicates(['image'])\n",
    "# valid_text_ids = train_df[train_df['query_id'].isin(train_queries['query_id'])][['query_text', 'query_id', 'input_ids']]\n",
    "# valid_text_ids = valid_text_ids.drop_duplicates(['query_id']).reset_index(drop=True)"
   ]
  },
  {
   "cell_type": "code",
   "execution_count": null,
   "id": "fd99e0d5",
   "metadata": {
    "id": "fd99e0d5"
   },
   "outputs": [],
   "source": [
    "valid_img_tensor = valid_df[valid_df['image'].isin(test_images['image'])][['image', 'tensor']].drop_duplicates(['image'])\n",
    "valid_text_ids = valid_df[valid_df['query_id'].isin(test_queries['query_id'])][['query_text', 'query_id', 'input_ids']].sample(10, random_state=1234)"
   ]
  },
  {
   "cell_type": "markdown",
   "id": "22f07cd1",
   "metadata": {},
   "source": [
    "<img src=\"https://upload.wikimedia.org/wikipedia/commons/thumb/8/81/Stop_sign.png/240px-Stop_sign.png\" align=left width=35, heigth=35>\n",
    "<div class=\"alert alert-danger\">\n",
    "Дальше проверить не могу - при перезапуске у меня возникла ошибка. </div>"
   ]
  },
  {
   "cell_type": "markdown",
   "id": "584dd296",
   "metadata": {
    "id": "87c8f9ce"
   },
   "source": [
    "<img src=\"https://upload.wikimedia.org/wikipedia/commons/b/ba/Warning_sign_4.0.png\" align=left width=44, heigth=33>\n",
    "<div class=\"alert alert-warning\">\n",
    "Программирование это не только написание кода, но его чтение, поддержание, отладка. Для этого стоит стремиться делать код понятным, читаемым. Разбивать на небольшие блоки, комментировать, давать информативные имена перееменным.  Считается что код пишется один раз, а читается очень много раз.\n",
    "\n",
    "Я уверен, что если я покажу тебе этот кусок кода через месяц ты не сможешь понрять что он делает. Слишком все сложно и запутанно. Поэтому во первых нужно сразу \"на берегу\" представить себе правильны подход и не делать лишних усложнений (как ты сделал объединив тестовые и обучающие данные в один датафрейм). Также при написании кода стоит делить его на небольшие понятные логические куски.\n",
    "    \n",
    " В качестве дополнительного развития могу порекомендоваь книгу \"PYTHON  чистый код для продолжающих\", Эл Свейгарт    \n",
    "   \n",
    "</div>"
   ]
  },
  {
   "cell_type": "code",
   "execution_count": null,
   "id": "76e51fcd",
   "metadata": {
    "id": "76e51fcd",
    "outputId": "f675770a-a457-4fda-e555-e6ac660de216"
   },
   "outputs": [],
   "source": [
    "check_df = valid_text_ids.sample(10, random_state=1234).merge(valid_img_tensor, how='cross')\n",
    "check_df['features'] = check_df.apply(lambda x: np.concatenate([x['input_ids'], x['tensor']]), axis=1)\n",
    "check_df"
   ]
  },
  {
   "cell_type": "code",
   "execution_count": null,
   "id": "58787153",
   "metadata": {
    "id": "58787153",
    "outputId": "e3bc4e9d-fbfe-44fa-a662-1a4ff8c7fd11"
   },
   "outputs": [],
   "source": [
    "check_df['predict'] = model.predict(pd.DataFrame(check_df['features'].to_list()).add_prefix('feature_'))"
   ]
  },
  {
   "cell_type": "code",
   "execution_count": null,
   "id": "1d97f9e3",
   "metadata": {
    "id": "1d97f9e3",
    "outputId": "420c953d-f783-4d4a-fe2a-1c2e0815e9ae"
   },
   "outputs": [],
   "source": [
    "max_predict_check_df = check_df[check_df.groupby(['query_id'])['predict'].transform(max) == check_df['predict']].reset_index(drop=True)\n",
    "max_predict_check_df"
   ]
  },
  {
   "cell_type": "code",
   "execution_count": null,
   "id": "d4181927",
   "metadata": {
    "id": "d4181927",
    "outputId": "65e9f893-0e4a-4993-b258-0a47daa61db4"
   },
   "outputs": [],
   "source": [
    "fig = plt.figure(figsize=(15,20))\n",
    "for i in max_predict_check_df.index:\n",
    "    record = max_predict_check_df.loc[i]\n",
    "    fig.add_subplot(8, 4, i+1)\n",
    "    image = Image.open(f'{ORIGINAL_DIR}/images/{record[\"image\"]}')\n",
    "    # print(record[\"image\"])\n",
    "    plt.imshow(np.array(image))\n",
    "    plt.xticks([])\n",
    "    plt.yticks([])\n",
    "    plt.title(max_predict_check_df.loc[i, 'query_text'], fontsize=7, wrap=True)\n",
    "    plt.tight_layout()"
   ]
  },
  {
   "cell_type": "markdown",
   "id": "eae6e933",
   "metadata": {},
   "source": [
    "<img src=\"https://upload.wikimedia.org/wikipedia/commons/thumb/8/81/Stop_sign.png/240px-Stop_sign.png\" align=left width=35, heigth=35>\n",
    "<div class=\"alert alert-danger\">\n",
    "Здесь я попрошу тебя немного переделать логику инференса.\n",
    "    \n",
    "Ты уже на финишной прямой курса и во всю ипользуешь функции. Поэтому я попрошу тебя оформить тестирование следующим образом: нужно написать функцию, способную искать изображение по тексту для одного изображения.\n",
    " \n",
    "  Что должна делаь функция\n",
    "    \n",
    "   - Получать текст\n",
    "   - Возвращать картинку и метрику близости. \n",
    "   - Выдавать дисклеймер если запрос некорректный\n",
    "    \n",
    "Т.е. векторизация изображений может (и должна) быть выполнена заранее. А вот векторизацию текста оптимально выполнять \"на лету\"    \n",
    "    \n",
    "А затем нужно 10 раз применить функцию к 10 случайным запросам.    \n",
    "    \n",
    ".</div>"
   ]
  },
  {
   "cell_type": "markdown",
   "id": "2989febe",
   "metadata": {},
   "source": [
    "<img src=\"https://upload.wikimedia.org/wikipedia/commons/thumb/8/81/Stop_sign.png/240px-Stop_sign.png\" align=left width=35, heigth=35>\n",
    "<div class=\"alert alert-danger\">\n",
    "И пожалуста пиши пояснения к коду. Понять код, в одну строку которого вложено несколько сущностей невозможно (точне на это уйдет слишком много времени).\n",
    "    \n",
    "</div>"
   ]
  },
  {
   "cell_type": "markdown",
   "id": "dd27f423",
   "metadata": {
    "id": "dd27f423"
   },
   "source": [
    "#### Вывод\n",
    "Точности модели недостаточно, чтобы предсказывать фотографии корректно."
   ]
  },
  {
   "cell_type": "markdown",
   "id": "fab1345a",
   "metadata": {
    "cellId": "dnvdkzzxdpet1yc4m64cx",
    "execution_id": "3e367f6a-97e3-4ed7-9b73-39ed363fd2b7",
    "id": "fab1345a"
   },
   "source": [
    "## 8. Выводы\n",
    "\n",
    "- [x]  Jupyter Notebook открыт\n",
    "- [x]  Весь код выполняется без ошибок\n",
    "- [x]  Ячейки с кодом расположены в порядке исполнения\n",
    "- [x]  Исследовательский анализ данных выполнен\n",
    "- [x]  Проверены экспертные оценки и краудсорсинговые оценки\n",
    "- [x]  Из датасета исключены те объекты, которые выходят за рамки юридических ограничений\n",
    "- [x]  Изображения векторизованы\n",
    "- [x]  Текстовые запросы векторизованы\n",
    "- [x]  Данные корректно разбиты на тренировочную и тестовую выборки\n",
    "- [x]  Предложена метрика качества работы модели\n",
    "- [x]  Предложена модель схожести изображений и текстового запроса\n",
    "- [x]  Модель обучена\n",
    "- [x]  По итогам обучения модели сделаны выводы\n",
    "- [x]  Проведено тестирование работы модели\n",
    "- [x]  По итогам тестирования визуально сравнили качество поиска"
   ]
  },
  {
   "cell_type": "markdown",
   "id": "cf379813",
   "metadata": {
    "id": "98130d7d"
   },
   "source": [
    "<img src=\"http://s3.amazonaws.com/pix.iemoji.com/images/emoji/apple/ios-12/256/waving-hand.png\" align=left width=44, heigth=44>\n",
    "<div class=\"alert alert-info\">\n",
    "<b> Идеи и альтернативные подходы</b>\n",
    "  Если хочешь получить хорошо работающее решение без обучения, то можешь провести эксперимент с нейронной сетью CLIP от OPEN AI (это не обязательно, только если хочешь добиться хороших результатов в этом проекте).\n",
    "\n",
    "  Про эту нейронку много где написано, но можешь посмотреть например вот здесь  https://habr.com/ru/post/539312/.\n",
    "\n",
    "  А для написания  реализации наиболее удобной лично для меня оказалась библиотека sbert. https://www.sbert.net/examples/applications/image-search/README.html  \n",
    "    \n",
    " <hr>   \n",
    "Также  неплохо работает следующий подход (к тому же легко реализуемый).\n",
    "    \n",
    "    \n",
    "Вместо того, чтобы подавать на вход модели изображение + текст и получать меру соответствия, поступаем по другому. \n",
    "    \n",
    "На вход модели подаем вектор описания, а на выходе учимся предсказывать вектор изображения. \n",
    "    \n",
    "По поводу метрик тут ситуация следующая. Точно работает следующий подход\n",
    "    \n",
    "  - берем метрику mse, но тогда нужно чтобы модель её уменьшала. А значит в обучении используем только пары заведомо сответствующие друг другу\n",
    "\n",
    "Можно попробовать использовать косинусное расстояние, она позволяет использовать все данные (если есть соответствие то выдает 1, если нет то 0). \n",
    "    \n",
    "Также можно попробовать усложнить модель, например и изображения и тексты отправлять в пространство размерностью 256 и уже в этом пространстве учиться их \"сближать\".\n",
    "    \n",
    "По поводу методов векторизации: я бы использовать resnet18 для изображений (размерность эмбеддинга избражения 512) и БЕРТ для текстов (768).        \n",
    "    \n",
    "</div>"
   ]
  },
  {
   "cell_type": "markdown",
   "id": "db178f02",
   "metadata": {},
   "source": [
    "<img src=\"http://s3.amazonaws.com/pix.iemoji.com/images/emoji/apple/ios-12/256/waving-hand.png\" align=left width=44, heigth=44>\n",
    "<div class=\"alert alert-info\">\n",
    "<b> Заключительный комментарий</b>\n",
    "Подведем итоги. Я вижу, что в целом с проектом ты справляешься.\n",
    "    \n",
    "Получены признаки из текста и изображений, обучена модель регрессии. \n",
    "    \n",
    "Однако я вижу ряд серьезных ошибок, которые нужно доработать.\n",
    "    \n",
    " - проект должен запускаться на исходном датасете, доступном на сервере ЯП. \n",
    " - пожалуста при предобработке не используй тестовые даннные, а также оптимизируй процесс предобработки, убери заведомо лишние операции\n",
    " - нужно провести чистку датасета от изображений с детьми\n",
    " - векторизация текстов с помощью BERT выполнена неверно\n",
    " - пожалуста используй правильные имена выборок (тестовая и валидационная)\n",
    " - нужно исследовать еще как минимум одну модель\n",
    " - код должен запускаться без ошибок\n",
    " - пожалуйста добавь описания для кода тестирвоания. сейчас в нем невозмжоно разобраться\n",
    " - нужно изменить подход и написать функцию для поиска изображения по текстовому описанию    \n",
    "    \n",
    "      \n",
    "</div>"
   ]
  },
  {
   "cell_type": "markdown",
   "id": "e706585f",
   "metadata": {},
   "source": []
  },
  {
   "cell_type": "markdown",
   "id": "3572c52a",
   "metadata": {},
   "source": []
  }
 ],
 "metadata": {
  "celltoolbar": "Отсутствует",
  "colab": {
   "provenance": []
  },
  "kernelspec": {
   "display_name": "Python 3 (ipykernel)",
   "language": "python",
   "name": "python3"
  },
  "language_info": {
   "codemirror_mode": {
    "name": "ipython",
    "version": 3
   },
   "file_extension": ".py",
   "mimetype": "text/x-python",
   "name": "python",
   "nbconvert_exporter": "python",
   "pygments_lexer": "ipython3",
   "version": "3.9.17"
  },
  "notebookId": "e47b60f7-b2b4-44ee-beb3-b44a93eaf068",
  "notebookPath": "precode.ipynb",
  "toc": {
   "base_numbering": 1,
   "nav_menu": {},
   "number_sections": true,
   "sideBar": true,
   "skip_h1_title": true,
   "title_cell": "Table of Contents",
   "title_sidebar": "Contents",
   "toc_cell": false,
   "toc_position": {},
   "toc_section_display": true,
   "toc_window_display": false
  }
 },
 "nbformat": 4,
 "nbformat_minor": 5
}
